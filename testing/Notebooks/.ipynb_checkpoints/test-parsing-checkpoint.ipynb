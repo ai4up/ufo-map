{
 "cells": [
  {
   "cell_type": "code",
   "execution_count": 1,
   "id": "6029734f",
   "metadata": {},
   "outputs": [],
   "source": [
    "import sys,os\n",
    "import geopandas as gpd\n",
    "\n",
    "path_ufo_map = r'C:\\Users\\miln\\tubCloud\\Work-in-progress\\building-project\\git-ufo-map'\n",
    "sys.path.append(path_ufo_map)\n",
    "from ufo_map.Preprocessing.parsing import *"
   ]
  },
  {
   "cell_type": "code",
   "execution_count": 2,
   "id": "3ac7324c",
   "metadata": {},
   "outputs": [],
   "source": [
    "path_data = os.path.join(path_ufo_map,'testing','Data_Testing')"
   ]
  },
  {
   "cell_type": "markdown",
   "id": "16f10218",
   "metadata": {},
   "source": [
    "## SHP"
   ]
  },
  {
   "cell_type": "code",
   "execution_count": 3,
   "id": "96366f37",
   "metadata": {},
   "outputs": [],
   "source": [
    "gdf = gpd.read_file(os.path.join(path_data,'pra.shp'))"
   ]
  },
  {
   "cell_type": "code",
   "execution_count": 4,
   "id": "df3f788d",
   "metadata": {
    "collapsed": true
   },
   "outputs": [
    {
     "data": {
      "text/plain": [
       "ID_BUD\n",
       "36750     4.856\n",
       "37229    11.748\n",
       "37248     5.911\n",
       "37250     4.918\n",
       "dtype: float64"
      ]
     },
     "execution_count": 4,
     "metadata": {},
     "output_type": "execute_result"
    }
   ],
   "source": [
    "elem_shp = ['TYP','zakladova deska','svisla obvodova stena']\n",
    "ID = 'ID_BUD'\n",
    "footprints = gdf[gdf[elem_shp[0]] == elem_shp[1]].dissolve(by=ID,as_index=False)\n",
    "walls = gdf[gdf[elem_shp[0]] == elem_shp[2]]\n",
    "calc_height_shp(walls,ID)\n",
    "\n",
    "# calc_height_shp: OK"
   ]
  },
  {
   "cell_type": "code",
   "execution_count": 5,
   "id": "f850084c",
   "metadata": {
    "collapsed": true
   },
   "outputs": [
    {
     "data": {
      "text/html": [
       "<div>\n",
       "<style scoped>\n",
       "    .dataframe tbody tr th:only-of-type {\n",
       "        vertical-align: middle;\n",
       "    }\n",
       "\n",
       "    .dataframe tbody tr th {\n",
       "        vertical-align: top;\n",
       "    }\n",
       "\n",
       "    .dataframe thead th {\n",
       "        text-align: right;\n",
       "    }\n",
       "</style>\n",
       "<table border=\"1\" class=\"dataframe\">\n",
       "  <thead>\n",
       "    <tr style=\"text-align: right;\">\n",
       "      <th></th>\n",
       "      <th>ID_BUD</th>\n",
       "      <th>geometry</th>\n",
       "      <th>AKTUALIZAC</th>\n",
       "      <th>ML</th>\n",
       "      <th>ZMENA</th>\n",
       "      <th>KATUZE_KOD</th>\n",
       "      <th>SKUPINA</th>\n",
       "      <th>TYP</th>\n",
       "      <th>ID_FACE</th>\n",
       "      <th>Shape_Leng</th>\n",
       "      <th>Shape_Area</th>\n",
       "      <th>height</th>\n",
       "    </tr>\n",
       "  </thead>\n",
       "  <tbody>\n",
       "    <tr>\n",
       "      <th>0</th>\n",
       "      <td>36750</td>\n",
       "      <td>POLYGON Z ((-751676.941 -1039950.207 353.263, ...</td>\n",
       "      <td>201109</td>\n",
       "      <td>Bero00</td>\n",
       "      <td>None</td>\n",
       "      <td>729710</td>\n",
       "      <td>9</td>\n",
       "      <td>zakladova deska</td>\n",
       "      <td>6</td>\n",
       "      <td>24.376179</td>\n",
       "      <td>37.061627</td>\n",
       "      <td>4.856</td>\n",
       "    </tr>\n",
       "    <tr>\n",
       "      <th>1</th>\n",
       "      <td>37229</td>\n",
       "      <td>POLYGON Z ((-751368.167 -1040000.964 352.540, ...</td>\n",
       "      <td>200908</td>\n",
       "      <td>Bero00</td>\n",
       "      <td>None</td>\n",
       "      <td>729795</td>\n",
       "      <td>9</td>\n",
       "      <td>zakladova deska</td>\n",
       "      <td>16</td>\n",
       "      <td>37.731311</td>\n",
       "      <td>88.615396</td>\n",
       "      <td>11.748</td>\n",
       "    </tr>\n",
       "    <tr>\n",
       "      <th>2</th>\n",
       "      <td>37248</td>\n",
       "      <td>POLYGON Z ((-751728.341 -1040006.086 354.033, ...</td>\n",
       "      <td>201109</td>\n",
       "      <td>Bero00</td>\n",
       "      <td>None</td>\n",
       "      <td>729710</td>\n",
       "      <td>9</td>\n",
       "      <td>zakladova deska</td>\n",
       "      <td>26</td>\n",
       "      <td>16.475862</td>\n",
       "      <td>11.239934</td>\n",
       "      <td>5.911</td>\n",
       "    </tr>\n",
       "    <tr>\n",
       "      <th>3</th>\n",
       "      <td>37250</td>\n",
       "      <td>POLYGON Z ((-751438.114 -1040000.131 352.919, ...</td>\n",
       "      <td>200908</td>\n",
       "      <td>Bero00</td>\n",
       "      <td>None</td>\n",
       "      <td>729795</td>\n",
       "      <td>9</td>\n",
       "      <td>zakladova deska</td>\n",
       "      <td>33</td>\n",
       "      <td>18.978562</td>\n",
       "      <td>22.232850</td>\n",
       "      <td>4.918</td>\n",
       "    </tr>\n",
       "  </tbody>\n",
       "</table>\n",
       "</div>"
      ],
      "text/plain": [
       "   ID_BUD                                           geometry AKTUALIZAC  \\\n",
       "0   36750  POLYGON Z ((-751676.941 -1039950.207 353.263, ...     201109   \n",
       "1   37229  POLYGON Z ((-751368.167 -1040000.964 352.540, ...     200908   \n",
       "2   37248  POLYGON Z ((-751728.341 -1040006.086 354.033, ...     201109   \n",
       "3   37250  POLYGON Z ((-751438.114 -1040000.131 352.919, ...     200908   \n",
       "\n",
       "       ML ZMENA  KATUZE_KOD  SKUPINA              TYP  ID_FACE  Shape_Leng  \\\n",
       "0  Bero00  None      729710        9  zakladova deska        6   24.376179   \n",
       "1  Bero00  None      729795        9  zakladova deska       16   37.731311   \n",
       "2  Bero00  None      729710        9  zakladova deska       26   16.475862   \n",
       "3  Bero00  None      729795        9  zakladova deska       33   18.978562   \n",
       "\n",
       "   Shape_Area  height  \n",
       "0   37.061627   4.856  \n",
       "1   88.615396  11.748  \n",
       "2   11.239934   5.911  \n",
       "3   22.232850   4.918  "
      ]
     },
     "execution_count": 5,
     "metadata": {},
     "output_type": "execute_result"
    }
   ],
   "source": [
    "elem_shp = ['TYP','zakladova deska','svisla obvodova stena']\n",
    "walls_to_height_shp(gdf,'ID_BUD',elem_shp)\n",
    "\n",
    "# walls_to_height_shp: OK"
   ]
  },
  {
   "cell_type": "markdown",
   "id": "45cdc82b",
   "metadata": {},
   "source": [
    "## GML"
   ]
  },
  {
   "cell_type": "code",
   "execution_count": 6,
   "id": "a8f5b23b",
   "metadata": {},
   "outputs": [],
   "source": [
    "bldg_elem = 'bldg:Building'"
   ]
  },
  {
   "cell_type": "code",
   "execution_count": 7,
   "id": "651998b9",
   "metadata": {},
   "outputs": [],
   "source": [
    "file_paths = {'ch':os.path.join(path_data,'ch.gml'),\n",
    "              'sa':os.path.join(path_data,'sachsen.gml'),\n",
    "              'lu':os.path.join(path_data,'lux.gml'),\n",
    "              'ha':os.path.join(path_data,'hamburg.xml')}"
   ]
  },
  {
   "cell_type": "code",
   "execution_count": 8,
   "id": "9fb37bd0",
   "metadata": {},
   "outputs": [],
   "source": [
    "files = ['ch','sa','lu','ha']"
   ]
  },
  {
   "cell_type": "code",
   "execution_count": 9,
   "id": "c9ce48ca",
   "metadata": {
    "collapsed": true
   },
   "outputs": [
    {
     "name": "stdout",
     "output_type": "stream",
     "text": [
      "ch\n",
      "sa\n",
      "lu\n",
      "ha\n"
     ]
    }
   ],
   "source": [
    "bldg_elem_list = {f:'' for f in files}\n",
    "gml_root = {f:'' for f in files}\n",
    "\n",
    "for f in files:\n",
    "    gml = etree.parse(file_paths[f])\n",
    "    gml_root[f] = gml.getroot()\n",
    "    bldg_elem_list[f] = get_bldg_elements(gml,gml_root[f],bldg_elem) \n",
    "    print(f)\n",
    "    \n",
    "# get_bldg_elements: OK"
   ]
  },
  {
   "cell_type": "code",
   "execution_count": 10,
   "id": "862e5a8b",
   "metadata": {},
   "outputs": [],
   "source": [
    "elem = {f:'' for f in files}\n",
    "for f in files: elem[f] = bldg_elem_list[f][0]"
   ]
  },
  {
   "cell_type": "code",
   "execution_count": 11,
   "id": "df508069",
   "metadata": {
    "collapsed": true
   },
   "outputs": [
    {
     "name": "stdout",
     "output_type": "stream",
     "text": [
      "['_6F33B4C3-F009-428F-BCB3-F9A35CD0BF5C', '_3374B83F-65B8-42C6-B38E-4B697AB78FED', '_CAC0C79F-77BE-4314-BDAC-9FAA3D45BCFF', '_AAA5442C-7BA8-4C3D-BA03-C032D92D9746', '_7F1E8F61-89C0-4B72-BC51-213D1D3F4A62', '_ECD11BA8-FA2E-42B6-8FC4-DEA51AB0317D', '_D8A3FE06-1DE7-4054-8CB2-76840AA51500', '_A55E976C-9B7B-4186-A33B-E8061937FA0E', '_F4102C7D-00F2-4F66-9754-E81E656769A1', '_8BC8CE22-23BB-4DDB-8224-7D81533DF47F', '_4A9C2C87-8FF4-427E-AF4C-02900D9E5319', '_94238EF7-8163-4A6C-80FA-62FCA7122AC4', '_5311BDE8-AA76-4C00-8AFE-D815AE4636F9', '_3728C1DC-9D5C-49D4-B6C0-5F3A513D293F', '_6B015F11-F5D6-482F-A8F3-2DCCDE2973AC', '_CE43A0F9-A4D7-489B-8922-D57902745180', '_CC54283F-21B7-4F89-81C4-4403B2D9E5BD', '_373B14F5-B708-44DE-8D60-DA824BDEFDA8', '_61590BAE-F452-4CA7-B65F-654DA1085951', '_D88F48BA-5884-4EFE-9B10-CBA1085F41CB', '_D260116E-FB8D-4670-BA1E-E2F39563F661', '_DBE53C96-A9F7-4FD7-B63B-F05DCFFF5E4C', '_46DD39CC-968E-4631-A93D-3F632DA43F54', '_8515F063-8579-4E97-AA75-8950E50F4760', '_D25B18A4-EE59-4F40-9809-2A57A84A7513', '_F7315898-F796-4AD9-989E-01AD78CAACF7', '_69056107-A271-4D62-BE6D-65C4784C0ABA', '_069C42DF-AD92-4038-98BD-E0F658B6BE73', '_328C6552-3B8E-4F40-AD83-0694AA7D48F2', '_1E0DEBD1-966C-4B32-AA51-669AE263E335', '_03FC9294-746C-4E49-B2B5-BC28CE67CE16', '_DC2E9448-9C9E-49B1-BC9B-FC915B7B2A1D', '_C353EE50-F9E5-4624-A9C0-546CC5070D54', '_D4A0FCEF-612A-4A16-8551-7E98761EE7D1', '_D3F3DDF2-1B68-4D73-A1FD-B1DF5CABFF89', '_832B0BD3-C7C4-4C54-877D-44F3EE9AE6C3', '_D22D6B8D-1CC6-4329-B5E6-9429B7973BF6', '_782D4EFC-FB2A-41E3-BF8F-A03201D03B4B', '_81AB01B1-11DB-449F-8FC6-D8D5105E540B', '_AFDD737A-9AF3-47FC-9983-D721646702CD', '_A0418BF1-F652-4AF7-A976-161567BD2526', '_4322A1B0-E97D-41BE-AC22-EE75B748B594', '_646BC5F0-78E4-4956-AD46-CCA565E69F94', '_19A0DF2A-B528-4858-9C52-3A1EDEF7AA2B', '_B22D1BED-4A28-4D61-BA37-7D0F24B2352B', '_386756A3-08A9-4595-A387-FADFFCEB5682', '_D46FD5A8-2F2F-4CF2-8E67-A90803FDBF0D', '_B28F03D3-5E26-4083-95F8-55415ADD02BA', '_8BA66917-9EAD-47D2-9C49-01261470AD84', '_DB366688-D59A-4252-B8E3-6A5B27A31CAB', '_0E11459B-AF5B-4237-A1DE-4E57A39E289A', '_7F14BB1A-4547-445B-9B25-93A0F2BA127A', '_58ECDE4C-C2F3-41CB-9286-A987669C8FDE', '_D21E4B93-C4CE-41F1-8D62-1B2DD17A315A', '_66BE1F1C-9AF6-4552-B3FB-DFAD3C8C0B9E', '_0BF95336-8D19-4EAE-A191-7B5EBF422D80', '_62918E7F-29D7-4F63-858C-3ADC3859FCB7']\n",
      "ch\n",
      "['DESNATPU1000G8RY', 'DESNATPU1000ILGl', 'DESNATPU1000HvHF', 'DESNATPU1000GPlg', 'DESNATPU1000E7CC', 'DESNATPU1000I9cS', 'DESNATPU1000BOos', 'DESNATPU1000CGOf', 'DESNATPU1000JQFp', 'DESNATPU1000GzKV', 'DESNATPU1000CLJd', 'DESNATPU1000CIYO', 'DESNATPU1000HcsV', 'DESNATPU1000C6s8', 'DESNATPU1000JDcb', 'DESNATPU1000HT13', 'DESNATPU1000EQ6T']\n",
      "sa\n",
      "['DEHH_c45e7b48-dc6f-4199-bdde-232530770d24', 'DEHH_32d3d30f-5717-4dea-a37c-b7b7efc59691', 'DEHH_1f2589f5-25d8-4d5d-8ce1-3ecae3278e38', 'DEHH_4319fb0f-9511-4496-8552-0d5eb734a1dd']\n",
      "ha\n"
     ]
    }
   ],
   "source": [
    "for f in ['ch','sa','ha']: \n",
    "    print(get_ids(bldg_elem_list[f],gml_root[f]))\n",
    "    print(f)\n",
    "    \n",
    "# get_ids: OK"
   ]
  },
  {
   "cell_type": "code",
   "execution_count": 12,
   "id": "57e3536d",
   "metadata": {
    "collapsed": true
   },
   "outputs": [
    {
     "name": "stdout",
     "output_type": "stream",
     "text": [
      "7.193\n"
     ]
    }
   ],
   "source": [
    "height_elem = 'bldg:measuredHeight'\n",
    "list_h = elem['sa'].findall(\".//{}\".format(height_elem),gml_root['sa'].nsmap)\n",
    "print(list_elem_to_max(list_h))\n",
    "\n",
    "# list_elem_to_max: OK"
   ]
  },
  {
   "cell_type": "code",
   "execution_count": 13,
   "id": "f4a7dbb6",
   "metadata": {
    "collapsed": true
   },
   "outputs": [
    {
     "data": {
      "text/plain": [
       "[7.193,\n",
       " 11.983,\n",
       " 6.0,\n",
       " 4.679,\n",
       " 9.633,\n",
       " 3.878,\n",
       " 5.821,\n",
       " 3.016,\n",
       " 2.768,\n",
       " 11.962,\n",
       " 3.191,\n",
       " 11.206,\n",
       " 3.76,\n",
       " 5.714,\n",
       " 5.215,\n",
       " 6.521,\n",
       " 5.216]"
      ]
     },
     "execution_count": 13,
     "metadata": {},
     "output_type": "execute_result"
    }
   ],
   "source": [
    "height_elem = 'bldg:measuredHeight'\n",
    "get_var_attrib(height_elem,bldg_elem_list['sa'],gml_root['sa'])\n",
    "\n",
    "# get_var_attrib: OK"
   ]
  },
  {
   "cell_type": "code",
   "execution_count": 14,
   "id": "b6ec6273",
   "metadata": {
    "collapsed": true
   },
   "outputs": [
    {
     "name": "stdout",
     "output_type": "stream",
     "text": [
      "['31001_9998', '31001_9998', '31001_9998', '31001_9998', '31001_9998', '31001_9998', '31001_2000', '31001_9998', '31001_9998', '31001_9998', '31001_9998', '31001_9998', '31001_9998', '31001_9998', '31001_9998', '31001_9998', '31001_9998']\n",
      "['51009_1610', '51009_1610', '51009_1610', '51009_1610']\n"
     ]
    }
   ],
   "source": [
    "str_elem = 'bldg:function'\n",
    "for f in ['sa','ha']: \n",
    "    print(get_uni_attrib(str_elem,bldg_elem_list[f],gml_root[f]))\n",
    "\n",
    "# get_uni_attrib: OK "
   ]
  },
  {
   "cell_type": "code",
   "execution_count": 15,
   "id": "d63b8502",
   "metadata": {},
   "outputs": [],
   "source": [
    "ground_elem = 'bldg:GroundSurface//gml:posList'\n",
    "list_foot_elems = {f:'' for f in ['ch','sa']}\n",
    "polys = {f:'' for f in ['ch','sa']}\n",
    "for f in ['ch','sa']:\n",
    "    list_poly_elem = elem[f].findall(\".//{}\".format(ground_elem),gml_root[f].nsmap)\n",
    "    polys[f] = poly_converter(list_poly_elem)\n",
    "\n",
    "# poly_converter: OK"
   ]
  },
  {
   "cell_type": "code",
   "execution_count": 16,
   "id": "287aa046",
   "metadata": {
    "collapsed": true
   },
   "outputs": [
    {
     "data": {
      "image/svg+xml": [
       "<svg xmlns=\"http://www.w3.org/2000/svg\" xmlns:xlink=\"http://www.w3.org/1999/xlink\" width=\"100.0\" height=\"100.0\" viewBox=\"281507.0892 5604296.679199999 9.241600000008475 11.361600001342595\" preserveAspectRatio=\"xMinYMin meet\"><g transform=\"matrix(1,0,0,-1,0,11208604.719999999)\"><path fill-rule=\"evenodd\" fill=\"#66cc99\" stroke=\"#555555\" stroke-width=\"0.2272320000268519\" opacity=\"0.6\" d=\"M 281515.91,5604298.81 L 281511.33,5604297.1 L 281507.51,5604305.52 L 281512.15,5604307.62 L 281515.91,5604298.81 z\" /></g></svg>"
      ],
      "text/plain": [
       "<shapely.geometry.polygon.Polygon at 0x22e0f643bb0>"
      ]
     },
     "execution_count": 16,
     "metadata": {},
     "output_type": "execute_result"
    }
   ],
   "source": [
    "polys['sa']"
   ]
  },
  {
   "cell_type": "code",
   "execution_count": 17,
   "id": "9f66f51a",
   "metadata": {
    "collapsed": true
   },
   "outputs": [
    {
     "data": {
      "image/svg+xml": [
       "<svg xmlns=\"http://www.w3.org/2000/svg\" xmlns:xlink=\"http://www.w3.org/1999/xlink\" width=\"100.0\" height=\"100.0\" viewBox=\"5938279.56824 5938279.56824 4.691519999876618 4.691519999876618\" preserveAspectRatio=\"xMinYMin meet\"><g transform=\"matrix(1,0,0,-1,0,11876563.828)\"><path fill-rule=\"evenodd\" fill=\"#ff3333\" stroke=\"#555555\" stroke-width=\"0.09383039999753237\" opacity=\"0.6\" d=\"M 5938279.742,5938279.742 L 5938281.65,5938281.65 L 5938284.086,5938284.086 L 5938282.137,5938282.137 L 5938279.742,5938279.742 z\" /></g></svg>"
      ],
      "text/plain": [
       "<shapely.geometry.polygon.Polygon at 0x22e13093850>"
      ]
     },
     "execution_count": 17,
     "metadata": {},
     "output_type": "execute_result"
    }
   ],
   "source": [
    "ground_elem = 'bldg:GroundSurface//gml:pos'\n",
    "list_point_elem = elem['ha'].findall(\".//{}\".format(ground_elem),gml_root['ha'].nsmap)\n",
    "poly = point_converter(list_point_elem)\n",
    "poly \n",
    "# point_converter: DOES NOT SEEM OK"
   ]
  },
  {
   "cell_type": "code",
   "execution_count": 18,
   "id": "237eff8d",
   "metadata": {
    "collapsed": true
   },
   "outputs": [
    {
     "name": "stdout",
     "output_type": "stream",
     "text": [
      "11.49\n",
      "(11.49, 610.5637519990386)\n",
      "7.19\n",
      "(7.19, 491.7277142857143)\n"
     ]
    }
   ],
   "source": [
    "wall_elem = 'bldg:WallSurface//gml:posList'\n",
    "meshes = {f:'' for f in ['ch','sa']}\n",
    "\n",
    "for f in ['ch','sa']:\n",
    "    meshes[f] = elem[f].findall(\".//{}\".format(wall_elem),gml_root[f].nsmap)\n",
    "    print(surface_to_height(meshes[f],sngl=False,av=False))\n",
    "    print(surface_to_height(meshes[f],sngl=False,av=True))\n",
    "\n",
    "# surface_to_height, sngl=False case: OK"
   ]
  },
  {
   "cell_type": "code",
   "execution_count": 19,
   "id": "7d0fb63f",
   "metadata": {
    "collapsed": true
   },
   "outputs": [
    {
     "data": {
      "text/plain": [
       "(0.0, 345.5)"
      ]
     },
     "execution_count": 19,
     "metadata": {},
     "output_type": "execute_result"
    }
   ],
   "source": [
    "surf_elem = 'gml:surfaceMember//gml:posList'\n",
    "meshes = elem['lu'].findall(\".//{}\".format(surf_elem),gml_root['lu'].nsmap)\n",
    "surface_to_height(meshes[0],sngl=True,av=True)\n",
    "\n",
    "# surface_to_height, sngl=True case: OK"
   ]
  },
  {
   "cell_type": "code",
   "execution_count": 20,
   "id": "add1884a",
   "metadata": {
    "collapsed": true
   },
   "outputs": [
    {
     "name": "stdout",
     "output_type": "stream",
     "text": [
      "[11.49, 4.65, 15.52, 7.45, 15.28, 16.56, 0.1, 0.42, 10.8, 4.54, 0.1, 5.94, 11.65, 0.98, 10.07, 8.9, 9.53, 11.84, 14.78, 7.24, 0.1, 20.71, 14.29, 7.57, 13.76, 9.76, 12.62, 5.84, 16.94, 7.28, 10.74, 4.64, 15.87, 9.19, 11.13, 17.77, 9.43, 1.21, 7.75, 15.28, 5.43, 7.81, 17.56, 8.24, 0.1, 18.15, 6.27, 22.38, 11.09, 16.85, 13.2, 9.79, 14.55, 12.02, 5.68, 11.24, 10.02]\n",
      "[7.19, 9.97, 6.0, 4.68, 9.63, 3.88, 5.82, 3.02, 2.77, 11.96, 3.19, 11.21, 3.76, 5.71, 5.22, 6.52, 5.22]\n"
     ]
    }
   ],
   "source": [
    "wall_elem = 'bldg:WallSurface//gml:posList'\n",
    "for f in ['ch','sa']:\n",
    "    print(get_heights_wall(wall_elem,bldg_elem_list[f],gml_root[f]))\n",
    "\n",
    "# get_heights_wall: OK"
   ]
  },
  {
   "cell_type": "code",
   "execution_count": 21,
   "id": "2e7de1e8",
   "metadata": {
    "collapsed": true
   },
   "outputs": [
    {
     "data": {
      "text/plain": [
       "0"
      ]
     },
     "execution_count": 21,
     "metadata": {},
     "output_type": "execute_result"
    }
   ],
   "source": [
    "surf_elem = 'gml:surfaceMember//gml:posList'\n",
    "list_surf_elem = elem['ha'].findall(\".//{}\".format(ground_elem),gml_root['ha'].nsmap)\n",
    "ground_surf_solid_idx(list_surf_elem)\n",
    "\n",
    "# ground_surf_solid_idx: OK"
   ]
  },
  {
   "cell_type": "code",
   "execution_count": 22,
   "id": "168c57ca",
   "metadata": {
    "collapsed": true
   },
   "outputs": [
    {
     "name": "stdout",
     "output_type": "stream",
     "text": [
      "[<shapely.geometry.polygon.Polygon object at 0x0000022E1301ED00>, <shapely.geometry.polygon.Polygon object at 0x0000022E0F643DF0>, <shapely.geometry.polygon.Polygon object at 0x0000022E130715B0>, <shapely.geometry.polygon.Polygon object at 0x0000022E13071940>, <shapely.geometry.polygon.Polygon object at 0x0000022E13071D30>, <shapely.geometry.polygon.Polygon object at 0x0000022E13071C10>, <shapely.geometry.polygon.Polygon object at 0x0000022E13071BB0>, <shapely.geometry.polygon.Polygon object at 0x0000022E13071820>, <shapely.geometry.polygon.Polygon object at 0x0000022E13071EE0>, <shapely.geometry.polygon.Polygon object at 0x0000022E13071B20>, <shapely.geometry.polygon.Polygon object at 0x0000022E130718B0>, <shapely.geometry.polygon.Polygon object at 0x0000022E13071580>, <shapely.geometry.multipolygon.MultiPolygon object at 0x0000022E130717F0>, <shapely.geometry.polygon.Polygon object at 0x0000022E1301EC40>, <shapely.geometry.polygon.Polygon object at 0x0000022E0F643040>, <shapely.geometry.polygon.Polygon object at 0x0000022E0F6434C0>, <shapely.geometry.polygon.Polygon object at 0x0000022E13071610>, <shapely.geometry.polygon.Polygon object at 0x0000022E130714F0>, <shapely.geometry.polygon.Polygon object at 0x0000022E13071910>, <shapely.geometry.polygon.Polygon object at 0x0000022E130719D0>, <shapely.geometry.polygon.Polygon object at 0x0000022E13071FD0>, <shapely.geometry.polygon.Polygon object at 0x0000022E13093FA0>, <shapely.geometry.polygon.Polygon object at 0x0000022E13093CA0>, <shapely.geometry.polygon.Polygon object at 0x0000022E13093640>, <shapely.geometry.polygon.Polygon object at 0x0000022E13093C40>, <shapely.geometry.polygon.Polygon object at 0x0000022E13093B50>, <shapely.geometry.polygon.Polygon object at 0x0000022E13093DC0>, <shapely.geometry.polygon.Polygon object at 0x0000022E13093910>, <shapely.geometry.polygon.Polygon object at 0x0000022E13093550>, <shapely.geometry.polygon.Polygon object at 0x0000022E13093B20>, <shapely.geometry.polygon.Polygon object at 0x0000022E13093BE0>, <shapely.geometry.polygon.Polygon object at 0x0000022E13093310>, <shapely.geometry.polygon.Polygon object at 0x0000022E13093E50>, <shapely.geometry.polygon.Polygon object at 0x0000022E13093A90>, <shapely.geometry.polygon.Polygon object at 0x0000022E13093280>, <shapely.geometry.polygon.Polygon object at 0x0000022E13093AF0>, <shapely.geometry.multipolygon.MultiPolygon object at 0x0000022E13093400>, <shapely.geometry.polygon.Polygon object at 0x0000022E13093880>, <shapely.geometry.polygon.Polygon object at 0x0000022E13093580>, <shapely.geometry.polygon.Polygon object at 0x0000022E13093EB0>, <shapely.geometry.polygon.Polygon object at 0x0000022E13093F10>, <shapely.geometry.polygon.Polygon object at 0x0000022E13093130>, <shapely.geometry.polygon.Polygon object at 0x0000022E13093C70>, <shapely.geometry.polygon.Polygon object at 0x0000022E13093CD0>, <shapely.geometry.polygon.Polygon object at 0x0000022E13093970>, <shapely.geometry.polygon.Polygon object at 0x0000022E130936D0>, <shapely.geometry.polygon.Polygon object at 0x0000022E13093A00>, <shapely.geometry.polygon.Polygon object at 0x0000022E130938E0>, <shapely.geometry.polygon.Polygon object at 0x0000022E13093940>, <shapely.geometry.polygon.Polygon object at 0x0000022E13093370>, <shapely.geometry.polygon.Polygon object at 0x0000022E13093040>, <shapely.geometry.polygon.Polygon object at 0x0000022E130933A0>, <shapely.geometry.polygon.Polygon object at 0x0000022E130935E0>, <shapely.geometry.polygon.Polygon object at 0x0000022E13093790>, <shapely.geometry.polygon.Polygon object at 0x0000022E13093670>, <shapely.geometry.polygon.Polygon object at 0x0000022E13093C10>, <shapely.geometry.polygon.Polygon object at 0x0000022E13093610>]\n",
      "[<shapely.geometry.polygon.Polygon object at 0x0000022E11FBCEE0>, <shapely.geometry.polygon.Polygon object at 0x0000022E0F643040>, <shapely.geometry.polygon.Polygon object at 0x0000022E0F6434C0>, <shapely.geometry.polygon.Polygon object at 0x0000022E130715B0>, <shapely.geometry.polygon.Polygon object at 0x0000022E13071820>, <shapely.geometry.polygon.Polygon object at 0x0000022E13071D30>, <shapely.geometry.polygon.Polygon object at 0x0000022E13071940>, <shapely.geometry.polygon.Polygon object at 0x0000022E130718B0>, <shapely.geometry.polygon.Polygon object at 0x0000022E13071580>, <shapely.geometry.polygon.Polygon object at 0x0000022E130717F0>, <shapely.geometry.polygon.Polygon object at 0x0000022E13071BB0>, <shapely.geometry.polygon.Polygon object at 0x0000022E13071EE0>, <shapely.geometry.polygon.Polygon object at 0x0000022E130714F0>, <shapely.geometry.polygon.Polygon object at 0x0000022E13071910>, <shapely.geometry.multipolygon.MultiPolygon object at 0x0000022E13071610>, <shapely.geometry.polygon.Polygon object at 0x0000022E13071FD0>, <shapely.geometry.polygon.Polygon object at 0x0000022E13071FA0>]\n"
     ]
    }
   ],
   "source": [
    "ft_elem = 'bldg:GroundSurface//gml:posList'\n",
    "for f in ['ch','sa']:\n",
    "    print(get_footprints(ft_elem,bldg_elem_list[f],gml_root[f],pt=False,solid=None))\n",
    "\n",
    "# get_footprint, base case: OK"
   ]
  },
  {
   "cell_type": "code",
   "execution_count": 23,
   "id": "acc5ab3d",
   "metadata": {
    "collapsed": true
   },
   "outputs": [
    {
     "data": {
      "text/plain": [
       "[<shapely.geometry.polygon.Polygon at 0x22e13071730>,\n",
       " <shapely.geometry.polygon.Polygon at 0x22e13071640>,\n",
       " <shapely.geometry.polygon.Polygon at 0x22e13071b50>,\n",
       " <shapely.geometry.polygon.Polygon at 0x22e13071e20>]"
      ]
     },
     "execution_count": 23,
     "metadata": {},
     "output_type": "execute_result"
    }
   ],
   "source": [
    "ft_elem = 'bldg:GroundSurface//gml:pos'\n",
    "get_footprints(ft_elem,bldg_elem_list['ha'],gml_root['ha'],pt=True,solid=None)\n",
    "\n",
    "# get_footprint, point case: OK (s.t. point converter being OK)"
   ]
  },
  {
   "cell_type": "code",
   "execution_count": 24,
   "id": "7d14531b",
   "metadata": {
    "collapsed": true
   },
   "outputs": [
    {
     "data": {
      "text/plain": [
       "[<shapely.geometry.collection.GeometryCollection at 0x22e13071910>,\n",
       " <shapely.geometry.collection.GeometryCollection at 0x22e13071a00>,\n",
       " <shapely.geometry.collection.GeometryCollection at 0x22e13071c10>,\n",
       " <shapely.geometry.collection.GeometryCollection at 0x22e13093280>,\n",
       " <shapely.geometry.collection.GeometryCollection at 0x22e13093400>,\n",
       " <shapely.geometry.collection.GeometryCollection at 0x22e13071be0>,\n",
       " <shapely.geometry.collection.GeometryCollection at 0x22e13093dc0>,\n",
       " <shapely.geometry.collection.GeometryCollection at 0x22e13093640>,\n",
       " <shapely.geometry.collection.GeometryCollection at 0x22e13093be0>,\n",
       " <shapely.geometry.collection.GeometryCollection at 0x22e1301ee50>,\n",
       " <shapely.geometry.collection.GeometryCollection at 0x22e130715b0>,\n",
       " <shapely.geometry.collection.GeometryCollection at 0x22e13071dc0>,\n",
       " <shapely.geometry.collection.GeometryCollection at 0x22e130935b0>,\n",
       " <shapely.geometry.collection.GeometryCollection at 0x22e13093310>,\n",
       " <shapely.geometry.collection.GeometryCollection at 0x22e13093fa0>,\n",
       " <shapely.geometry.collection.GeometryCollection at 0x22e13093880>,\n",
       " <shapely.geometry.collection.GeometryCollection at 0x22e13093eb0>,\n",
       " <shapely.geometry.collection.GeometryCollection at 0x22e13093130>,\n",
       " <shapely.geometry.collection.GeometryCollection at 0x22e13093cd0>,\n",
       " <shapely.geometry.collection.GeometryCollection at 0x22e130936d0>,\n",
       " <shapely.geometry.collection.GeometryCollection at 0x22e130938e0>,\n",
       " <shapely.geometry.collection.GeometryCollection at 0x22e13093370>,\n",
       " <shapely.geometry.collection.GeometryCollection at 0x22e130933a0>,\n",
       " <shapely.geometry.collection.GeometryCollection at 0x22e13093790>,\n",
       " <shapely.geometry.collection.GeometryCollection at 0x22e13093c10>,\n",
       " <shapely.geometry.collection.GeometryCollection at 0x22e13093e80>,\n",
       " <shapely.geometry.collection.GeometryCollection at 0x22e13093d30>,\n",
       " <shapely.geometry.collection.GeometryCollection at 0x22e130932b0>,\n",
       " <shapely.geometry.collection.GeometryCollection at 0x22e13093820>,\n",
       " <shapely.geometry.collection.GeometryCollection at 0x22e130930a0>,\n",
       " <shapely.geometry.collection.GeometryCollection at 0x22e130939d0>,\n",
       " <shapely.geometry.collection.GeometryCollection at 0x22e130938b0>,\n",
       " <shapely.geometry.collection.GeometryCollection at 0x22e13093700>,\n",
       " <shapely.geometry.collection.GeometryCollection at 0x22e130932e0>,\n",
       " <shapely.geometry.collection.GeometryCollection at 0x22e13093460>,\n",
       " <shapely.geometry.collection.GeometryCollection at 0x22e13093190>,\n",
       " <shapely.geometry.collection.GeometryCollection at 0x22e13093160>,\n",
       " <shapely.geometry.collection.GeometryCollection at 0x22e13093ee0>,\n",
       " <shapely.geometry.collection.GeometryCollection at 0x22e13093070>,\n",
       " <shapely.geometry.collection.GeometryCollection at 0x22e13093250>,\n",
       " <shapely.geometry.collection.GeometryCollection at 0x22e13093490>,\n",
       " <shapely.geometry.collection.GeometryCollection at 0x22e11f51730>,\n",
       " <shapely.geometry.collection.GeometryCollection at 0x22e11f51910>,\n",
       " <shapely.geometry.collection.GeometryCollection at 0x22e11f51700>,\n",
       " <shapely.geometry.collection.GeometryCollection at 0x22e130ae070>,\n",
       " <shapely.geometry.collection.GeometryCollection at 0x22e130ae0d0>,\n",
       " <shapely.geometry.collection.GeometryCollection at 0x22e130ae130>,\n",
       " <shapely.geometry.collection.GeometryCollection at 0x22e130ae190>,\n",
       " <shapely.geometry.collection.GeometryCollection at 0x22e130ae1f0>,\n",
       " <shapely.geometry.collection.GeometryCollection at 0x22e130ae250>,\n",
       " <shapely.geometry.collection.GeometryCollection at 0x22e130ae2b0>,\n",
       " <shapely.geometry.collection.GeometryCollection at 0x22e130ae310>,\n",
       " <shapely.geometry.collection.GeometryCollection at 0x22e130ae370>,\n",
       " <shapely.geometry.collection.GeometryCollection at 0x22e130ae3d0>,\n",
       " <shapely.geometry.collection.GeometryCollection at 0x22e130ae430>,\n",
       " <shapely.geometry.collection.GeometryCollection at 0x22e130ae490>,\n",
       " <shapely.geometry.collection.GeometryCollection at 0x22e130ae4f0>,\n",
       " <shapely.geometry.collection.GeometryCollection at 0x22e130ae550>,\n",
       " <shapely.geometry.collection.GeometryCollection at 0x22e130ae5b0>,\n",
       " <shapely.geometry.collection.GeometryCollection at 0x22e130ae610>,\n",
       " <shapely.geometry.collection.GeometryCollection at 0x22e11fbc640>,\n",
       " <shapely.geometry.collection.GeometryCollection at 0x22e130ae670>,\n",
       " <shapely.geometry.collection.GeometryCollection at 0x22e130ae6d0>,\n",
       " <shapely.geometry.collection.GeometryCollection at 0x22e130ae730>,\n",
       " <shapely.geometry.collection.GeometryCollection at 0x22e130ae790>,\n",
       " <shapely.geometry.collection.GeometryCollection at 0x22e130ae7f0>,\n",
       " <shapely.geometry.collection.GeometryCollection at 0x22e130ae850>,\n",
       " <shapely.geometry.collection.GeometryCollection at 0x22e130ae8b0>,\n",
       " <shapely.geometry.collection.GeometryCollection at 0x22e130ae910>,\n",
       " <shapely.geometry.collection.GeometryCollection at 0x22e130ae970>,\n",
       " <shapely.geometry.collection.GeometryCollection at 0x22e130ae9d0>,\n",
       " <shapely.geometry.collection.GeometryCollection at 0x22e130aea30>,\n",
       " <shapely.geometry.collection.GeometryCollection at 0x22e130aea90>,\n",
       " <shapely.geometry.collection.GeometryCollection at 0x22e130aeaf0>,\n",
       " <shapely.geometry.collection.GeometryCollection at 0x22e130aeb50>,\n",
       " <shapely.geometry.collection.GeometryCollection at 0x22e130aebb0>,\n",
       " <shapely.geometry.collection.GeometryCollection at 0x22e130aec10>,\n",
       " <shapely.geometry.collection.GeometryCollection at 0x22e130aec70>,\n",
       " <shapely.geometry.collection.GeometryCollection at 0x22e130aecd0>,\n",
       " <shapely.geometry.collection.GeometryCollection at 0x22e130aed30>,\n",
       " <shapely.geometry.collection.GeometryCollection at 0x22e130aed90>,\n",
       " <shapely.geometry.collection.GeometryCollection at 0x22e130aedf0>,\n",
       " <shapely.geometry.collection.GeometryCollection at 0x22e130aee50>,\n",
       " <shapely.geometry.collection.GeometryCollection at 0x22e130aeeb0>,\n",
       " <shapely.geometry.collection.GeometryCollection at 0x22e130aef10>,\n",
       " <shapely.geometry.collection.GeometryCollection at 0x22e130aef70>,\n",
       " <shapely.geometry.collection.GeometryCollection at 0x22e130aefd0>,\n",
       " <shapely.geometry.collection.GeometryCollection at 0x22e130af070>,\n",
       " <shapely.geometry.collection.GeometryCollection at 0x22e130af0d0>,\n",
       " <shapely.geometry.collection.GeometryCollection at 0x22e130af130>,\n",
       " <shapely.geometry.collection.GeometryCollection at 0x22e130af190>,\n",
       " <shapely.geometry.collection.GeometryCollection at 0x22e130af1f0>,\n",
       " <shapely.geometry.collection.GeometryCollection at 0x22e130af250>,\n",
       " <shapely.geometry.collection.GeometryCollection at 0x22e130af2b0>,\n",
       " <shapely.geometry.collection.GeometryCollection at 0x22e130af310>,\n",
       " <shapely.geometry.collection.GeometryCollection at 0x22e130af370>,\n",
       " <shapely.geometry.collection.GeometryCollection at 0x22e130af3d0>,\n",
       " <shapely.geometry.collection.GeometryCollection at 0x22e130af430>,\n",
       " <shapely.geometry.collection.GeometryCollection at 0x22e130af490>,\n",
       " <shapely.geometry.collection.GeometryCollection at 0x22e130af4f0>,\n",
       " <shapely.geometry.collection.GeometryCollection at 0x22e130af550>,\n",
       " <shapely.geometry.collection.GeometryCollection at 0x22e130af5b0>,\n",
       " <shapely.geometry.collection.GeometryCollection at 0x22e130af610>,\n",
       " <shapely.geometry.collection.GeometryCollection at 0x22e130af670>,\n",
       " <shapely.geometry.collection.GeometryCollection at 0x22e130af6d0>,\n",
       " <shapely.geometry.collection.GeometryCollection at 0x22e130af730>,\n",
       " <shapely.geometry.collection.GeometryCollection at 0x22e130af790>,\n",
       " <shapely.geometry.collection.GeometryCollection at 0x22e130af7f0>,\n",
       " <shapely.geometry.collection.GeometryCollection at 0x22e130af850>,\n",
       " <shapely.geometry.collection.GeometryCollection at 0x22e130af8b0>,\n",
       " <shapely.geometry.collection.GeometryCollection at 0x22e130af910>,\n",
       " <shapely.geometry.collection.GeometryCollection at 0x22e130af970>,\n",
       " <shapely.geometry.collection.GeometryCollection at 0x22e130af9d0>,\n",
       " <shapely.geometry.collection.GeometryCollection at 0x22e130afa30>,\n",
       " <shapely.geometry.collection.GeometryCollection at 0x22e130afa90>,\n",
       " <shapely.geometry.collection.GeometryCollection at 0x22e130afaf0>,\n",
       " <shapely.geometry.collection.GeometryCollection at 0x22e130afb50>,\n",
       " <shapely.geometry.collection.GeometryCollection at 0x22e130afbb0>,\n",
       " <shapely.geometry.collection.GeometryCollection at 0x22e130afc10>,\n",
       " <shapely.geometry.collection.GeometryCollection at 0x22e130afc70>,\n",
       " <shapely.geometry.collection.GeometryCollection at 0x22e130afcd0>,\n",
       " <shapely.geometry.collection.GeometryCollection at 0x22e130afd30>,\n",
       " <shapely.geometry.collection.GeometryCollection at 0x22e130afd90>,\n",
       " <shapely.geometry.collection.GeometryCollection at 0x22e130afdf0>,\n",
       " <shapely.geometry.collection.GeometryCollection at 0x22e130afe50>,\n",
       " <shapely.geometry.collection.GeometryCollection at 0x22e130afeb0>,\n",
       " <shapely.geometry.collection.GeometryCollection at 0x22e130aff10>,\n",
       " <shapely.geometry.collection.GeometryCollection at 0x22e130aff70>,\n",
       " <shapely.geometry.collection.GeometryCollection at 0x22e130affd0>,\n",
       " <shapely.geometry.collection.GeometryCollection at 0x22e14092070>,\n",
       " <shapely.geometry.collection.GeometryCollection at 0x22e140920d0>,\n",
       " <shapely.geometry.collection.GeometryCollection at 0x22e14092130>,\n",
       " <shapely.geometry.collection.GeometryCollection at 0x22e14092190>,\n",
       " <shapely.geometry.collection.GeometryCollection at 0x22e140921f0>,\n",
       " <shapely.geometry.collection.GeometryCollection at 0x22e14092250>,\n",
       " <shapely.geometry.collection.GeometryCollection at 0x22e140922b0>,\n",
       " <shapely.geometry.collection.GeometryCollection at 0x22e14092310>,\n",
       " <shapely.geometry.collection.GeometryCollection at 0x22e14092370>,\n",
       " <shapely.geometry.collection.GeometryCollection at 0x22e140923d0>,\n",
       " <shapely.geometry.collection.GeometryCollection at 0x22e14092430>,\n",
       " <shapely.geometry.collection.GeometryCollection at 0x22e14092490>,\n",
       " <shapely.geometry.collection.GeometryCollection at 0x22e140924f0>,\n",
       " <shapely.geometry.collection.GeometryCollection at 0x22e14092550>,\n",
       " <shapely.geometry.collection.GeometryCollection at 0x22e140925b0>,\n",
       " <shapely.geometry.collection.GeometryCollection at 0x22e14092610>,\n",
       " <shapely.geometry.collection.GeometryCollection at 0x22e14092670>,\n",
       " <shapely.geometry.collection.GeometryCollection at 0x22e140926d0>,\n",
       " <shapely.geometry.collection.GeometryCollection at 0x22e14092730>,\n",
       " <shapely.geometry.collection.GeometryCollection at 0x22e14092790>,\n",
       " <shapely.geometry.collection.GeometryCollection at 0x22e140927f0>,\n",
       " <shapely.geometry.collection.GeometryCollection at 0x22e14092850>,\n",
       " <shapely.geometry.collection.GeometryCollection at 0x22e140928b0>,\n",
       " <shapely.geometry.collection.GeometryCollection at 0x22e14092910>,\n",
       " <shapely.geometry.collection.GeometryCollection at 0x22e14092970>,\n",
       " <shapely.geometry.collection.GeometryCollection at 0x22e140929d0>,\n",
       " <shapely.geometry.collection.GeometryCollection at 0x22e14092a30>,\n",
       " <shapely.geometry.collection.GeometryCollection at 0x22e14092a90>,\n",
       " <shapely.geometry.collection.GeometryCollection at 0x22e14092af0>,\n",
       " <shapely.geometry.collection.GeometryCollection at 0x22e14092b50>,\n",
       " <shapely.geometry.collection.GeometryCollection at 0x22e14092bb0>,\n",
       " <shapely.geometry.collection.GeometryCollection at 0x22e14092c10>,\n",
       " <shapely.geometry.collection.GeometryCollection at 0x22e14092c70>,\n",
       " <shapely.geometry.collection.GeometryCollection at 0x22e14092cd0>,\n",
       " <shapely.geometry.collection.GeometryCollection at 0x22e14092d30>,\n",
       " <shapely.geometry.collection.GeometryCollection at 0x22e14092d90>,\n",
       " <shapely.geometry.collection.GeometryCollection at 0x22e14092df0>,\n",
       " <shapely.geometry.collection.GeometryCollection at 0x22e14092e50>,\n",
       " <shapely.geometry.collection.GeometryCollection at 0x22e14092eb0>,\n",
       " <shapely.geometry.collection.GeometryCollection at 0x22e14092f10>,\n",
       " <shapely.geometry.collection.GeometryCollection at 0x22e14092f70>,\n",
       " <shapely.geometry.collection.GeometryCollection at 0x22e14092fd0>,\n",
       " <shapely.geometry.collection.GeometryCollection at 0x22e14080070>,\n",
       " <shapely.geometry.collection.GeometryCollection at 0x22e140800d0>,\n",
       " <shapely.geometry.collection.GeometryCollection at 0x22e14080130>,\n",
       " <shapely.geometry.collection.GeometryCollection at 0x22e14080190>,\n",
       " <shapely.geometry.collection.GeometryCollection at 0x22e140801f0>,\n",
       " <shapely.geometry.collection.GeometryCollection at 0x22e14080250>,\n",
       " <shapely.geometry.collection.GeometryCollection at 0x22e140802b0>,\n",
       " <shapely.geometry.collection.GeometryCollection at 0x22e14080310>,\n",
       " <shapely.geometry.collection.GeometryCollection at 0x22e14080370>,\n",
       " <shapely.geometry.collection.GeometryCollection at 0x22e140803d0>,\n",
       " <shapely.geometry.collection.GeometryCollection at 0x22e14080430>,\n",
       " <shapely.geometry.collection.GeometryCollection at 0x22e14080490>,\n",
       " <shapely.geometry.collection.GeometryCollection at 0x22e140804f0>,\n",
       " <shapely.geometry.collection.GeometryCollection at 0x22e14080550>,\n",
       " <shapely.geometry.collection.GeometryCollection at 0x22e140805b0>,\n",
       " <shapely.geometry.collection.GeometryCollection at 0x22e14080610>,\n",
       " <shapely.geometry.collection.GeometryCollection at 0x22e14080670>,\n",
       " <shapely.geometry.collection.GeometryCollection at 0x22e140806d0>,\n",
       " <shapely.geometry.collection.GeometryCollection at 0x22e14080730>,\n",
       " <shapely.geometry.collection.GeometryCollection at 0x22e14080790>,\n",
       " <shapely.geometry.collection.GeometryCollection at 0x22e140807f0>,\n",
       " <shapely.geometry.collection.GeometryCollection at 0x22e14080850>,\n",
       " <shapely.geometry.collection.GeometryCollection at 0x22e140808b0>,\n",
       " <shapely.geometry.collection.GeometryCollection at 0x22e14080910>,\n",
       " <shapely.geometry.collection.GeometryCollection at 0x22e14080970>,\n",
       " <shapely.geometry.collection.GeometryCollection at 0x22e140809d0>,\n",
       " <shapely.geometry.collection.GeometryCollection at 0x22e14080a30>,\n",
       " <shapely.geometry.collection.GeometryCollection at 0x22e14080a90>,\n",
       " <shapely.geometry.collection.GeometryCollection at 0x22e14080af0>,\n",
       " <shapely.geometry.collection.GeometryCollection at 0x22e14080b50>,\n",
       " <shapely.geometry.collection.GeometryCollection at 0x22e14080bb0>,\n",
       " <shapely.geometry.collection.GeometryCollection at 0x22e14080c10>,\n",
       " <shapely.geometry.collection.GeometryCollection at 0x22e14080c70>,\n",
       " <shapely.geometry.collection.GeometryCollection at 0x22e14080cd0>,\n",
       " <shapely.geometry.collection.GeometryCollection at 0x22e14080d30>,\n",
       " <shapely.geometry.collection.GeometryCollection at 0x22e14080d90>,\n",
       " <shapely.geometry.collection.GeometryCollection at 0x22e14080df0>,\n",
       " <shapely.geometry.collection.GeometryCollection at 0x22e14080e50>,\n",
       " <shapely.geometry.collection.GeometryCollection at 0x22e14080eb0>,\n",
       " <shapely.geometry.collection.GeometryCollection at 0x22e14080f10>,\n",
       " <shapely.geometry.collection.GeometryCollection at 0x22e14080f70>,\n",
       " <shapely.geometry.collection.GeometryCollection at 0x22e14080fd0>,\n",
       " <shapely.geometry.collection.GeometryCollection at 0x22e14081070>,\n",
       " <shapely.geometry.collection.GeometryCollection at 0x22e140810d0>,\n",
       " <shapely.geometry.collection.GeometryCollection at 0x22e14081130>,\n",
       " <shapely.geometry.collection.GeometryCollection at 0x22e14081190>,\n",
       " <shapely.geometry.collection.GeometryCollection at 0x22e140811f0>,\n",
       " <shapely.geometry.collection.GeometryCollection at 0x22e14081250>,\n",
       " <shapely.geometry.collection.GeometryCollection at 0x22e140812b0>,\n",
       " <shapely.geometry.collection.GeometryCollection at 0x22e14081310>,\n",
       " <shapely.geometry.collection.GeometryCollection at 0x22e14081370>,\n",
       " <shapely.geometry.collection.GeometryCollection at 0x22e140813d0>,\n",
       " <shapely.geometry.collection.GeometryCollection at 0x22e14081430>,\n",
       " <shapely.geometry.collection.GeometryCollection at 0x22e14081490>,\n",
       " <shapely.geometry.collection.GeometryCollection at 0x22e140814f0>,\n",
       " <shapely.geometry.collection.GeometryCollection at 0x22e14081550>,\n",
       " <shapely.geometry.collection.GeometryCollection at 0x22e140815b0>,\n",
       " <shapely.geometry.collection.GeometryCollection at 0x22e14081610>,\n",
       " <shapely.geometry.collection.GeometryCollection at 0x22e14081670>,\n",
       " <shapely.geometry.collection.GeometryCollection at 0x22e140816d0>,\n",
       " <shapely.geometry.collection.GeometryCollection at 0x22e14081730>,\n",
       " <shapely.geometry.collection.GeometryCollection at 0x22e14081790>,\n",
       " <shapely.geometry.collection.GeometryCollection at 0x22e140817f0>,\n",
       " <shapely.geometry.collection.GeometryCollection at 0x22e14081850>,\n",
       " <shapely.geometry.collection.GeometryCollection at 0x22e140818b0>,\n",
       " <shapely.geometry.collection.GeometryCollection at 0x22e14081910>,\n",
       " <shapely.geometry.collection.GeometryCollection at 0x22e14081970>,\n",
       " <shapely.geometry.collection.GeometryCollection at 0x22e140819d0>,\n",
       " <shapely.geometry.collection.GeometryCollection at 0x22e14081a30>,\n",
       " <shapely.geometry.collection.GeometryCollection at 0x22e14081a90>,\n",
       " <shapely.geometry.collection.GeometryCollection at 0x22e14081af0>,\n",
       " <shapely.geometry.collection.GeometryCollection at 0x22e14081b50>,\n",
       " <shapely.geometry.collection.GeometryCollection at 0x22e14081bb0>,\n",
       " <shapely.geometry.collection.GeometryCollection at 0x22e14081c10>,\n",
       " <shapely.geometry.collection.GeometryCollection at 0x22e14081c70>,\n",
       " <shapely.geometry.collection.GeometryCollection at 0x22e14081cd0>,\n",
       " <shapely.geometry.collection.GeometryCollection at 0x22e14081d30>,\n",
       " <shapely.geometry.collection.GeometryCollection at 0x22e14081d90>,\n",
       " <shapely.geometry.collection.GeometryCollection at 0x22e14081df0>,\n",
       " <shapely.geometry.collection.GeometryCollection at 0x22e14081e50>,\n",
       " <shapely.geometry.collection.GeometryCollection at 0x22e14081eb0>,\n",
       " <shapely.geometry.collection.GeometryCollection at 0x22e14081f10>,\n",
       " <shapely.geometry.collection.GeometryCollection at 0x22e14081f70>,\n",
       " <shapely.geometry.collection.GeometryCollection at 0x22e14081fd0>,\n",
       " <shapely.geometry.collection.GeometryCollection at 0x22e14083070>,\n",
       " <shapely.geometry.collection.GeometryCollection at 0x22e140830d0>,\n",
       " <shapely.geometry.collection.GeometryCollection at 0x22e14083130>,\n",
       " <shapely.geometry.collection.GeometryCollection at 0x22e14083190>,\n",
       " <shapely.geometry.collection.GeometryCollection at 0x22e140831f0>,\n",
       " <shapely.geometry.collection.GeometryCollection at 0x22e14083250>,\n",
       " <shapely.geometry.collection.GeometryCollection at 0x22e140832b0>,\n",
       " <shapely.geometry.collection.GeometryCollection at 0x22e14083310>,\n",
       " <shapely.geometry.collection.GeometryCollection at 0x22e14083370>,\n",
       " <shapely.geometry.collection.GeometryCollection at 0x22e140833d0>,\n",
       " <shapely.geometry.collection.GeometryCollection at 0x22e14083430>,\n",
       " <shapely.geometry.collection.GeometryCollection at 0x22e14083490>,\n",
       " <shapely.geometry.collection.GeometryCollection at 0x22e140834f0>,\n",
       " <shapely.geometry.collection.GeometryCollection at 0x22e14083550>,\n",
       " <shapely.geometry.collection.GeometryCollection at 0x22e140835b0>,\n",
       " <shapely.geometry.collection.GeometryCollection at 0x22e14083610>,\n",
       " <shapely.geometry.collection.GeometryCollection at 0x22e14083670>,\n",
       " <shapely.geometry.collection.GeometryCollection at 0x22e140836d0>,\n",
       " <shapely.geometry.collection.GeometryCollection at 0x22e14083730>,\n",
       " <shapely.geometry.collection.GeometryCollection at 0x22e14083790>,\n",
       " <shapely.geometry.collection.GeometryCollection at 0x22e140837f0>,\n",
       " <shapely.geometry.collection.GeometryCollection at 0x22e14083850>,\n",
       " <shapely.geometry.collection.GeometryCollection at 0x22e140838b0>,\n",
       " <shapely.geometry.collection.GeometryCollection at 0x22e14083910>,\n",
       " <shapely.geometry.collection.GeometryCollection at 0x22e14083970>,\n",
       " <shapely.geometry.collection.GeometryCollection at 0x22e140839d0>,\n",
       " <shapely.geometry.collection.GeometryCollection at 0x22e14083a30>,\n",
       " <shapely.geometry.collection.GeometryCollection at 0x22e14083a90>,\n",
       " <shapely.geometry.collection.GeometryCollection at 0x22e14083af0>,\n",
       " <shapely.geometry.collection.GeometryCollection at 0x22e14083b50>,\n",
       " <shapely.geometry.collection.GeometryCollection at 0x22e14083bb0>,\n",
       " <shapely.geometry.collection.GeometryCollection at 0x22e14083c10>,\n",
       " <shapely.geometry.collection.GeometryCollection at 0x22e14083c70>,\n",
       " <shapely.geometry.collection.GeometryCollection at 0x22e14083cd0>,\n",
       " <shapely.geometry.collection.GeometryCollection at 0x22e14083d30>,\n",
       " <shapely.geometry.collection.GeometryCollection at 0x22e14083d90>,\n",
       " <shapely.geometry.collection.GeometryCollection at 0x22e14083df0>,\n",
       " <shapely.geometry.collection.GeometryCollection at 0x22e14083e50>,\n",
       " <shapely.geometry.collection.GeometryCollection at 0x22e14083eb0>,\n",
       " <shapely.geometry.collection.GeometryCollection at 0x22e14083f10>,\n",
       " <shapely.geometry.collection.GeometryCollection at 0x22e14083f70>,\n",
       " <shapely.geometry.collection.GeometryCollection at 0x22e14083fd0>,\n",
       " <shapely.geometry.collection.GeometryCollection at 0x22e14084070>,\n",
       " <shapely.geometry.collection.GeometryCollection at 0x22e140840d0>,\n",
       " <shapely.geometry.collection.GeometryCollection at 0x22e14084130>,\n",
       " <shapely.geometry.collection.GeometryCollection at 0x22e14084190>,\n",
       " <shapely.geometry.collection.GeometryCollection at 0x22e140841f0>,\n",
       " <shapely.geometry.collection.GeometryCollection at 0x22e1301ec40>,\n",
       " <shapely.geometry.collection.GeometryCollection at 0x22e14084250>,\n",
       " <shapely.geometry.collection.GeometryCollection at 0x22e140842b0>,\n",
       " <shapely.geometry.collection.GeometryCollection at 0x22e14084310>,\n",
       " <shapely.geometry.collection.GeometryCollection at 0x22e14084370>,\n",
       " <shapely.geometry.collection.GeometryCollection at 0x22e140843d0>,\n",
       " <shapely.geometry.collection.GeometryCollection at 0x22e14084430>,\n",
       " <shapely.geometry.collection.GeometryCollection at 0x22e14084490>,\n",
       " <shapely.geometry.collection.GeometryCollection at 0x22e140844f0>,\n",
       " <shapely.geometry.collection.GeometryCollection at 0x22e14084550>,\n",
       " <shapely.geometry.collection.GeometryCollection at 0x22e140845b0>,\n",
       " <shapely.geometry.collection.GeometryCollection at 0x22e14084610>,\n",
       " <shapely.geometry.collection.GeometryCollection at 0x22e14084670>,\n",
       " <shapely.geometry.collection.GeometryCollection at 0x22e140846d0>,\n",
       " <shapely.geometry.collection.GeometryCollection at 0x22e14084730>,\n",
       " <shapely.geometry.collection.GeometryCollection at 0x22e14084790>,\n",
       " <shapely.geometry.collection.GeometryCollection at 0x22e140847f0>,\n",
       " <shapely.geometry.collection.GeometryCollection at 0x22e14084850>,\n",
       " <shapely.geometry.collection.GeometryCollection at 0x22e140848b0>,\n",
       " <shapely.geometry.collection.GeometryCollection at 0x22e14084910>,\n",
       " <shapely.geometry.collection.GeometryCollection at 0x22e14084970>,\n",
       " <shapely.geometry.collection.GeometryCollection at 0x22e140849d0>,\n",
       " <shapely.geometry.collection.GeometryCollection at 0x22e14084a30>,\n",
       " <shapely.geometry.collection.GeometryCollection at 0x22e14084a90>,\n",
       " <shapely.geometry.collection.GeometryCollection at 0x22e14084af0>,\n",
       " <shapely.geometry.collection.GeometryCollection at 0x22e14084b50>,\n",
       " <shapely.geometry.collection.GeometryCollection at 0x22e14084bb0>,\n",
       " <shapely.geometry.collection.GeometryCollection at 0x22e14084c10>,\n",
       " <shapely.geometry.collection.GeometryCollection at 0x22e14084c70>,\n",
       " <shapely.geometry.collection.GeometryCollection at 0x22e14084cd0>,\n",
       " <shapely.geometry.collection.GeometryCollection at 0x22e14084d30>,\n",
       " <shapely.geometry.collection.GeometryCollection at 0x22e14084d90>,\n",
       " <shapely.geometry.collection.GeometryCollection at 0x22e14084df0>,\n",
       " <shapely.geometry.collection.GeometryCollection at 0x22e14084e50>,\n",
       " <shapely.geometry.collection.GeometryCollection at 0x22e14084eb0>,\n",
       " <shapely.geometry.collection.GeometryCollection at 0x22e14084f10>,\n",
       " <shapely.geometry.collection.GeometryCollection at 0x22e14084f70>,\n",
       " <shapely.geometry.collection.GeometryCollection at 0x22e14084fd0>,\n",
       " <shapely.geometry.collection.GeometryCollection at 0x22e14085070>,\n",
       " <shapely.geometry.collection.GeometryCollection at 0x22e140850d0>,\n",
       " <shapely.geometry.collection.GeometryCollection at 0x22e14085130>,\n",
       " <shapely.geometry.collection.GeometryCollection at 0x22e14085190>,\n",
       " <shapely.geometry.collection.GeometryCollection at 0x22e140851f0>,\n",
       " <shapely.geometry.collection.GeometryCollection at 0x22e14085250>,\n",
       " <shapely.geometry.collection.GeometryCollection at 0x22e140852b0>,\n",
       " <shapely.geometry.collection.GeometryCollection at 0x22e14085310>,\n",
       " <shapely.geometry.collection.GeometryCollection at 0x22e14085370>,\n",
       " <shapely.geometry.collection.GeometryCollection at 0x22e140853d0>,\n",
       " <shapely.geometry.collection.GeometryCollection at 0x22e14085430>,\n",
       " <shapely.geometry.collection.GeometryCollection at 0x22e14085490>,\n",
       " <shapely.geometry.collection.GeometryCollection at 0x22e140854f0>,\n",
       " <shapely.geometry.collection.GeometryCollection at 0x22e14085550>,\n",
       " <shapely.geometry.collection.GeometryCollection at 0x22e140855b0>,\n",
       " <shapely.geometry.collection.GeometryCollection at 0x22e14085610>,\n",
       " <shapely.geometry.collection.GeometryCollection at 0x22e14085670>,\n",
       " <shapely.geometry.collection.GeometryCollection at 0x22e140856d0>,\n",
       " <shapely.geometry.collection.GeometryCollection at 0x22e14085730>,\n",
       " <shapely.geometry.collection.GeometryCollection at 0x22e14085790>,\n",
       " <shapely.geometry.collection.GeometryCollection at 0x22e140857f0>,\n",
       " <shapely.geometry.collection.GeometryCollection at 0x22e14085850>,\n",
       " <shapely.geometry.collection.GeometryCollection at 0x22e140858b0>,\n",
       " <shapely.geometry.collection.GeometryCollection at 0x22e14085910>,\n",
       " <shapely.geometry.collection.GeometryCollection at 0x22e14085970>,\n",
       " <shapely.geometry.collection.GeometryCollection at 0x22e140859d0>,\n",
       " <shapely.geometry.collection.GeometryCollection at 0x22e14085a30>,\n",
       " <shapely.geometry.collection.GeometryCollection at 0x22e14085a90>,\n",
       " <shapely.geometry.collection.GeometryCollection at 0x22e14085af0>,\n",
       " <shapely.geometry.collection.GeometryCollection at 0x22e14085b50>,\n",
       " <shapely.geometry.collection.GeometryCollection at 0x22e14085bb0>,\n",
       " <shapely.geometry.collection.GeometryCollection at 0x22e14085c10>,\n",
       " <shapely.geometry.collection.GeometryCollection at 0x22e14085c70>,\n",
       " <shapely.geometry.collection.GeometryCollection at 0x22e14085cd0>,\n",
       " <shapely.geometry.collection.GeometryCollection at 0x22e14085d30>,\n",
       " <shapely.geometry.collection.GeometryCollection at 0x22e14085d90>,\n",
       " <shapely.geometry.collection.GeometryCollection at 0x22e14085df0>,\n",
       " <shapely.geometry.collection.GeometryCollection at 0x22e14085e50>,\n",
       " <shapely.geometry.collection.GeometryCollection at 0x22e14085eb0>,\n",
       " <shapely.geometry.collection.GeometryCollection at 0x22e14085f10>,\n",
       " <shapely.geometry.collection.GeometryCollection at 0x22e14085f70>,\n",
       " <shapely.geometry.collection.GeometryCollection at 0x22e14085fd0>,\n",
       " <shapely.geometry.collection.GeometryCollection at 0x22e14088070>,\n",
       " <shapely.geometry.collection.GeometryCollection at 0x22e140880d0>,\n",
       " <shapely.geometry.collection.GeometryCollection at 0x22e14088130>,\n",
       " <shapely.geometry.collection.GeometryCollection at 0x22e14088190>,\n",
       " <shapely.geometry.collection.GeometryCollection at 0x22e140881f0>,\n",
       " <shapely.geometry.collection.GeometryCollection at 0x22e14088250>,\n",
       " <shapely.geometry.collection.GeometryCollection at 0x22e140882b0>,\n",
       " <shapely.geometry.collection.GeometryCollection at 0x22e14088310>,\n",
       " <shapely.geometry.collection.GeometryCollection at 0x22e14088370>,\n",
       " <shapely.geometry.collection.GeometryCollection at 0x22e140883d0>,\n",
       " <shapely.geometry.collection.GeometryCollection at 0x22e14088430>,\n",
       " <shapely.geometry.collection.GeometryCollection at 0x22e14088490>,\n",
       " <shapely.geometry.collection.GeometryCollection at 0x22e140884f0>,\n",
       " <shapely.geometry.collection.GeometryCollection at 0x22e14088550>,\n",
       " <shapely.geometry.collection.GeometryCollection at 0x22e140885b0>,\n",
       " <shapely.geometry.collection.GeometryCollection at 0x22e14088610>,\n",
       " <shapely.geometry.collection.GeometryCollection at 0x22e14088670>,\n",
       " <shapely.geometry.collection.GeometryCollection at 0x22e140886d0>,\n",
       " <shapely.geometry.collection.GeometryCollection at 0x22e14088730>,\n",
       " <shapely.geometry.collection.GeometryCollection at 0x22e14088790>,\n",
       " <shapely.geometry.collection.GeometryCollection at 0x22e140887f0>,\n",
       " <shapely.geometry.collection.GeometryCollection at 0x22e14088850>,\n",
       " <shapely.geometry.collection.GeometryCollection at 0x22e140888b0>,\n",
       " <shapely.geometry.collection.GeometryCollection at 0x22e14088910>,\n",
       " <shapely.geometry.collection.GeometryCollection at 0x22e14088970>,\n",
       " <shapely.geometry.collection.GeometryCollection at 0x22e140889d0>,\n",
       " <shapely.geometry.collection.GeometryCollection at 0x22e14088a30>,\n",
       " <shapely.geometry.collection.GeometryCollection at 0x22e14088a90>,\n",
       " <shapely.geometry.collection.GeometryCollection at 0x22e14088af0>,\n",
       " <shapely.geometry.collection.GeometryCollection at 0x22e14088b50>,\n",
       " <shapely.geometry.collection.GeometryCollection at 0x22e14088bb0>,\n",
       " <shapely.geometry.collection.GeometryCollection at 0x22e14088c10>,\n",
       " <shapely.geometry.collection.GeometryCollection at 0x22e14088c70>,\n",
       " <shapely.geometry.collection.GeometryCollection at 0x22e14088cd0>,\n",
       " <shapely.geometry.collection.GeometryCollection at 0x22e14088d30>,\n",
       " <shapely.geometry.collection.GeometryCollection at 0x22e14088d90>,\n",
       " <shapely.geometry.collection.GeometryCollection at 0x22e14088df0>,\n",
       " <shapely.geometry.collection.GeometryCollection at 0x22e14088e50>,\n",
       " <shapely.geometry.collection.GeometryCollection at 0x22e14088eb0>,\n",
       " <shapely.geometry.collection.GeometryCollection at 0x22e14088f10>,\n",
       " <shapely.geometry.collection.GeometryCollection at 0x22e14088f70>,\n",
       " <shapely.geometry.collection.GeometryCollection at 0x22e14088fd0>,\n",
       " <shapely.geometry.collection.GeometryCollection at 0x22e1408a070>,\n",
       " <shapely.geometry.collection.GeometryCollection at 0x22e1408a0d0>,\n",
       " <shapely.geometry.collection.GeometryCollection at 0x22e1408a130>,\n",
       " <shapely.geometry.collection.GeometryCollection at 0x22e1408a190>,\n",
       " <shapely.geometry.collection.GeometryCollection at 0x22e1408a1f0>,\n",
       " <shapely.geometry.collection.GeometryCollection at 0x22e1408a250>,\n",
       " <shapely.geometry.collection.GeometryCollection at 0x22e1408a2b0>,\n",
       " <shapely.geometry.collection.GeometryCollection at 0x22e1408a310>,\n",
       " <shapely.geometry.collection.GeometryCollection at 0x22e1408a370>,\n",
       " <shapely.geometry.collection.GeometryCollection at 0x22e1408a3d0>,\n",
       " <shapely.geometry.collection.GeometryCollection at 0x22e1408a430>,\n",
       " <shapely.geometry.collection.GeometryCollection at 0x22e1408a490>,\n",
       " <shapely.geometry.collection.GeometryCollection at 0x22e1408a4f0>,\n",
       " <shapely.geometry.collection.GeometryCollection at 0x22e1408a550>,\n",
       " <shapely.geometry.collection.GeometryCollection at 0x22e1408a5b0>,\n",
       " <shapely.geometry.collection.GeometryCollection at 0x22e1408a610>,\n",
       " <shapely.geometry.collection.GeometryCollection at 0x22e1408a670>,\n",
       " <shapely.geometry.collection.GeometryCollection at 0x22e1408a6d0>,\n",
       " <shapely.geometry.collection.GeometryCollection at 0x22e1408a730>,\n",
       " <shapely.geometry.collection.GeometryCollection at 0x22e1408a790>,\n",
       " <shapely.geometry.collection.GeometryCollection at 0x22e1408a7f0>,\n",
       " <shapely.geometry.collection.GeometryCollection at 0x22e1408a850>,\n",
       " <shapely.geometry.collection.GeometryCollection at 0x22e1408a8b0>,\n",
       " <shapely.geometry.collection.GeometryCollection at 0x22e1408a910>,\n",
       " <shapely.geometry.collection.GeometryCollection at 0x22e1408a970>,\n",
       " <shapely.geometry.collection.GeometryCollection at 0x22e1408a9d0>,\n",
       " <shapely.geometry.collection.GeometryCollection at 0x22e1408aa30>,\n",
       " <shapely.geometry.collection.GeometryCollection at 0x22e1408aa90>,\n",
       " <shapely.geometry.collection.GeometryCollection at 0x22e1408aaf0>,\n",
       " <shapely.geometry.collection.GeometryCollection at 0x22e1408ab50>,\n",
       " <shapely.geometry.collection.GeometryCollection at 0x22e1408abb0>,\n",
       " <shapely.geometry.collection.GeometryCollection at 0x22e1408ac10>,\n",
       " <shapely.geometry.collection.GeometryCollection at 0x22e1408ac70>,\n",
       " <shapely.geometry.collection.GeometryCollection at 0x22e1408acd0>,\n",
       " <shapely.geometry.collection.GeometryCollection at 0x22e1408ad30>,\n",
       " <shapely.geometry.collection.GeometryCollection at 0x22e1408ad90>,\n",
       " <shapely.geometry.collection.GeometryCollection at 0x22e1408adf0>,\n",
       " <shapely.geometry.collection.GeometryCollection at 0x22e1408ae50>,\n",
       " <shapely.geometry.collection.GeometryCollection at 0x22e1408aeb0>,\n",
       " <shapely.geometry.collection.GeometryCollection at 0x22e1408af10>,\n",
       " <shapely.geometry.collection.GeometryCollection at 0x22e1408af70>,\n",
       " <shapely.geometry.collection.GeometryCollection at 0x22e1408afd0>,\n",
       " <shapely.geometry.collection.GeometryCollection at 0x22e1408f070>,\n",
       " <shapely.geometry.collection.GeometryCollection at 0x22e1408f0d0>,\n",
       " <shapely.geometry.collection.GeometryCollection at 0x22e1408f130>,\n",
       " <shapely.geometry.collection.GeometryCollection at 0x22e1408f190>,\n",
       " <shapely.geometry.collection.GeometryCollection at 0x22e1408f1f0>,\n",
       " <shapely.geometry.collection.GeometryCollection at 0x22e1408f250>,\n",
       " <shapely.geometry.collection.GeometryCollection at 0x22e1408f2b0>,\n",
       " <shapely.geometry.collection.GeometryCollection at 0x22e1408f310>,\n",
       " <shapely.geometry.collection.GeometryCollection at 0x22e1408f370>,\n",
       " <shapely.geometry.collection.GeometryCollection at 0x22e1408f3d0>,\n",
       " <shapely.geometry.collection.GeometryCollection at 0x22e1408f430>,\n",
       " <shapely.geometry.collection.GeometryCollection at 0x22e1408f490>,\n",
       " <shapely.geometry.collection.GeometryCollection at 0x22e1408f4f0>,\n",
       " <shapely.geometry.collection.GeometryCollection at 0x22e1408f550>,\n",
       " <shapely.geometry.collection.GeometryCollection at 0x22e1408f5b0>,\n",
       " <shapely.geometry.collection.GeometryCollection at 0x22e1408f610>,\n",
       " <shapely.geometry.collection.GeometryCollection at 0x22e1408f670>,\n",
       " <shapely.geometry.collection.GeometryCollection at 0x22e1408f6d0>,\n",
       " <shapely.geometry.collection.GeometryCollection at 0x22e1408f730>,\n",
       " <shapely.geometry.collection.GeometryCollection at 0x22e1408f790>,\n",
       " <shapely.geometry.collection.GeometryCollection at 0x22e1408f7f0>,\n",
       " <shapely.geometry.collection.GeometryCollection at 0x22e1408f850>,\n",
       " <shapely.geometry.collection.GeometryCollection at 0x22e1408f8b0>,\n",
       " <shapely.geometry.collection.GeometryCollection at 0x22e1408f910>,\n",
       " <shapely.geometry.collection.GeometryCollection at 0x22e1408f970>,\n",
       " <shapely.geometry.collection.GeometryCollection at 0x22e1408f9d0>,\n",
       " <shapely.geometry.collection.GeometryCollection at 0x22e1408fa30>,\n",
       " <shapely.geometry.collection.GeometryCollection at 0x22e1408fa90>,\n",
       " <shapely.geometry.collection.GeometryCollection at 0x22e1408faf0>,\n",
       " <shapely.geometry.collection.GeometryCollection at 0x22e1408fb50>,\n",
       " <shapely.geometry.collection.GeometryCollection at 0x22e1408fbb0>,\n",
       " <shapely.geometry.collection.GeometryCollection at 0x22e1408fc10>,\n",
       " <shapely.geometry.collection.GeometryCollection at 0x22e1408fc70>,\n",
       " <shapely.geometry.collection.GeometryCollection at 0x22e1408fcd0>,\n",
       " <shapely.geometry.collection.GeometryCollection at 0x22e1408fd30>,\n",
       " <shapely.geometry.collection.GeometryCollection at 0x22e1408fd90>,\n",
       " <shapely.geometry.collection.GeometryCollection at 0x22e1408fdf0>,\n",
       " <shapely.geometry.collection.GeometryCollection at 0x22e1408fe50>,\n",
       " <shapely.geometry.collection.GeometryCollection at 0x22e1408feb0>,\n",
       " <shapely.geometry.collection.GeometryCollection at 0x22e1408ff10>,\n",
       " <shapely.geometry.collection.GeometryCollection at 0x22e1408ff70>,\n",
       " <shapely.geometry.collection.GeometryCollection at 0x22e1408ffd0>,\n",
       " <shapely.geometry.collection.GeometryCollection at 0x22e14093070>,\n",
       " <shapely.geometry.collection.GeometryCollection at 0x22e140930d0>,\n",
       " <shapely.geometry.collection.GeometryCollection at 0x22e14093130>,\n",
       " <shapely.geometry.collection.GeometryCollection at 0x22e14093190>,\n",
       " <shapely.geometry.collection.GeometryCollection at 0x22e140931f0>,\n",
       " <shapely.geometry.collection.GeometryCollection at 0x22e14093250>,\n",
       " <shapely.geometry.collection.GeometryCollection at 0x22e140932b0>,\n",
       " <shapely.geometry.collection.GeometryCollection at 0x22e14093310>,\n",
       " <shapely.geometry.collection.GeometryCollection at 0x22e14093370>,\n",
       " <shapely.geometry.collection.GeometryCollection at 0x22e140933d0>,\n",
       " <shapely.geometry.collection.GeometryCollection at 0x22e14093430>,\n",
       " <shapely.geometry.collection.GeometryCollection at 0x22e14093490>,\n",
       " <shapely.geometry.collection.GeometryCollection at 0x22e140934f0>,\n",
       " <shapely.geometry.collection.GeometryCollection at 0x22e14093550>,\n",
       " <shapely.geometry.collection.GeometryCollection at 0x22e140935b0>,\n",
       " <shapely.geometry.collection.GeometryCollection at 0x22e14093610>,\n",
       " <shapely.geometry.collection.GeometryCollection at 0x22e14093670>,\n",
       " <shapely.geometry.collection.GeometryCollection at 0x22e140936d0>,\n",
       " <shapely.geometry.collection.GeometryCollection at 0x22e14093730>,\n",
       " <shapely.geometry.collection.GeometryCollection at 0x22e14093790>,\n",
       " <shapely.geometry.collection.GeometryCollection at 0x22e140937f0>,\n",
       " <shapely.geometry.collection.GeometryCollection at 0x22e14093850>,\n",
       " <shapely.geometry.collection.GeometryCollection at 0x22e140938b0>,\n",
       " <shapely.geometry.collection.GeometryCollection at 0x22e14093910>,\n",
       " <shapely.geometry.collection.GeometryCollection at 0x22e14093970>,\n",
       " <shapely.geometry.collection.GeometryCollection at 0x22e140939d0>,\n",
       " <shapely.geometry.collection.GeometryCollection at 0x22e14093a30>,\n",
       " <shapely.geometry.collection.GeometryCollection at 0x22e14093a90>,\n",
       " <shapely.geometry.collection.GeometryCollection at 0x22e14093af0>,\n",
       " <shapely.geometry.collection.GeometryCollection at 0x22e14093b50>,\n",
       " <shapely.geometry.collection.GeometryCollection at 0x22e14093bb0>,\n",
       " <shapely.geometry.collection.GeometryCollection at 0x22e14093c10>,\n",
       " <shapely.geometry.collection.GeometryCollection at 0x22e14093c70>,\n",
       " <shapely.geometry.collection.GeometryCollection at 0x22e14093cd0>,\n",
       " <shapely.geometry.collection.GeometryCollection at 0x22e14093d30>,\n",
       " <shapely.geometry.collection.GeometryCollection at 0x22e14093d90>,\n",
       " <shapely.geometry.collection.GeometryCollection at 0x22e14093df0>,\n",
       " <shapely.geometry.collection.GeometryCollection at 0x22e14093e50>,\n",
       " <shapely.geometry.collection.GeometryCollection at 0x22e14093eb0>,\n",
       " <shapely.geometry.collection.GeometryCollection at 0x22e14093f10>,\n",
       " <shapely.geometry.collection.GeometryCollection at 0x22e14093f70>,\n",
       " <shapely.geometry.collection.GeometryCollection at 0x22e14093fd0>,\n",
       " <shapely.geometry.collection.GeometryCollection at 0x22e14095070>,\n",
       " <shapely.geometry.collection.GeometryCollection at 0x22e140950d0>,\n",
       " <shapely.geometry.collection.GeometryCollection at 0x22e14095130>,\n",
       " <shapely.geometry.collection.GeometryCollection at 0x22e14095190>]"
      ]
     },
     "execution_count": 24,
     "metadata": {},
     "output_type": "execute_result"
    }
   ],
   "source": [
    "ft_elem = 'bldg:GroundSurface//gml:posList'\n",
    "get_footprints(ft_elem,bldg_elem_list['lu'],gml_root['lu'],pt=False,solid=True)\n",
    "\n",
    "# get_footprint, solid case: OK"
   ]
  }
 ],
 "metadata": {
  "kernelspec": {
   "display_name": "Python 3",
   "language": "python",
   "name": "python3"
  },
  "language_info": {
   "codemirror_mode": {
    "name": "ipython",
    "version": 3
   },
   "file_extension": ".py",
   "mimetype": "text/x-python",
   "name": "python",
   "nbconvert_exporter": "python",
   "pygments_lexer": "ipython3",
   "version": "3.9.4"
  }
 },
 "nbformat": 4,
 "nbformat_minor": 5
}
