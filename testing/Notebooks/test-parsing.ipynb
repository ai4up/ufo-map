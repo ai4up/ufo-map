{
 "cells": [
  {
   "cell_type": "code",
   "execution_count": 1,
   "id": "6029734f",
   "metadata": {},
   "outputs": [],
   "source": [
    "import sys,os\n",
    "import geopandas as gpd\n",
    "\n",
    "path_ufo_map = r'C:\\Users\\miln\\tubCloud\\Work-in-progress\\building-project\\git-ufo-map'\n",
    "sys.path.append(path_ufo_map)\n",
    "from ufo_map.Preprocessing.parsing import *"
   ]
  },
  {
   "cell_type": "code",
   "execution_count": 2,
   "id": "3ac7324c",
   "metadata": {},
   "outputs": [],
   "source": [
    "path_data = os.path.join(path_ufo_map,'testing','Data_Testing')"
   ]
  },
  {
   "cell_type": "markdown",
   "id": "16f10218",
   "metadata": {},
   "source": [
    "## SHP"
   ]
  },
  {
   "cell_type": "code",
   "execution_count": 3,
   "id": "96366f37",
   "metadata": {},
   "outputs": [],
   "source": [
    "gdf = gpd.read_file(os.path.join(path_data,'pra.shp'))"
   ]
  },
  {
   "cell_type": "code",
   "execution_count": 4,
   "id": "df3f788d",
   "metadata": {
    "collapsed": true
   },
   "outputs": [
    {
     "data": {
      "text/plain": [
       "ID_BUD\n",
       "36750     4.856\n",
       "37229    11.748\n",
       "37248     5.911\n",
       "37250     4.918\n",
       "dtype: float64"
      ]
     },
     "execution_count": 4,
     "metadata": {},
     "output_type": "execute_result"
    }
   ],
   "source": [
    "elem_shp = ['TYP','zakladova deska','svisla obvodova stena']\n",
    "ID = 'ID_BUD'\n",
    "footprints = gdf[gdf[elem_shp[0]] == elem_shp[1]].dissolve(by=ID,as_index=False)\n",
    "walls = gdf[gdf[elem_shp[0]] == elem_shp[2]]\n",
    "calc_height_shp(walls,ID)\n",
    "\n",
    "# calc_height_shp: OK"
   ]
  },
  {
   "cell_type": "code",
   "execution_count": 5,
   "id": "f850084c",
   "metadata": {
    "collapsed": true
   },
   "outputs": [
    {
     "data": {
      "text/html": [
       "<div>\n",
       "<style scoped>\n",
       "    .dataframe tbody tr th:only-of-type {\n",
       "        vertical-align: middle;\n",
       "    }\n",
       "\n",
       "    .dataframe tbody tr th {\n",
       "        vertical-align: top;\n",
       "    }\n",
       "\n",
       "    .dataframe thead th {\n",
       "        text-align: right;\n",
       "    }\n",
       "</style>\n",
       "<table border=\"1\" class=\"dataframe\">\n",
       "  <thead>\n",
       "    <tr style=\"text-align: right;\">\n",
       "      <th></th>\n",
       "      <th>ID_BUD</th>\n",
       "      <th>geometry</th>\n",
       "      <th>AKTUALIZAC</th>\n",
       "      <th>ML</th>\n",
       "      <th>ZMENA</th>\n",
       "      <th>KATUZE_KOD</th>\n",
       "      <th>SKUPINA</th>\n",
       "      <th>TYP</th>\n",
       "      <th>ID_FACE</th>\n",
       "      <th>Shape_Leng</th>\n",
       "      <th>Shape_Area</th>\n",
       "      <th>height</th>\n",
       "    </tr>\n",
       "  </thead>\n",
       "  <tbody>\n",
       "    <tr>\n",
       "      <th>0</th>\n",
       "      <td>36750</td>\n",
       "      <td>POLYGON Z ((-751676.941 -1039950.207 353.263, ...</td>\n",
       "      <td>201109</td>\n",
       "      <td>Bero00</td>\n",
       "      <td>None</td>\n",
       "      <td>729710</td>\n",
       "      <td>9</td>\n",
       "      <td>zakladova deska</td>\n",
       "      <td>6</td>\n",
       "      <td>24.376179</td>\n",
       "      <td>37.061627</td>\n",
       "      <td>4.856</td>\n",
       "    </tr>\n",
       "    <tr>\n",
       "      <th>1</th>\n",
       "      <td>37229</td>\n",
       "      <td>POLYGON Z ((-751368.167 -1040000.964 352.540, ...</td>\n",
       "      <td>200908</td>\n",
       "      <td>Bero00</td>\n",
       "      <td>None</td>\n",
       "      <td>729795</td>\n",
       "      <td>9</td>\n",
       "      <td>zakladova deska</td>\n",
       "      <td>16</td>\n",
       "      <td>37.731311</td>\n",
       "      <td>88.615396</td>\n",
       "      <td>11.748</td>\n",
       "    </tr>\n",
       "    <tr>\n",
       "      <th>2</th>\n",
       "      <td>37248</td>\n",
       "      <td>POLYGON Z ((-751728.341 -1040006.086 354.033, ...</td>\n",
       "      <td>201109</td>\n",
       "      <td>Bero00</td>\n",
       "      <td>None</td>\n",
       "      <td>729710</td>\n",
       "      <td>9</td>\n",
       "      <td>zakladova deska</td>\n",
       "      <td>26</td>\n",
       "      <td>16.475862</td>\n",
       "      <td>11.239934</td>\n",
       "      <td>5.911</td>\n",
       "    </tr>\n",
       "    <tr>\n",
       "      <th>3</th>\n",
       "      <td>37250</td>\n",
       "      <td>POLYGON Z ((-751438.114 -1040000.131 352.919, ...</td>\n",
       "      <td>200908</td>\n",
       "      <td>Bero00</td>\n",
       "      <td>None</td>\n",
       "      <td>729795</td>\n",
       "      <td>9</td>\n",
       "      <td>zakladova deska</td>\n",
       "      <td>33</td>\n",
       "      <td>18.978562</td>\n",
       "      <td>22.232850</td>\n",
       "      <td>4.918</td>\n",
       "    </tr>\n",
       "  </tbody>\n",
       "</table>\n",
       "</div>"
      ],
      "text/plain": [
       "   ID_BUD                                           geometry AKTUALIZAC  \\\n",
       "0   36750  POLYGON Z ((-751676.941 -1039950.207 353.263, ...     201109   \n",
       "1   37229  POLYGON Z ((-751368.167 -1040000.964 352.540, ...     200908   \n",
       "2   37248  POLYGON Z ((-751728.341 -1040006.086 354.033, ...     201109   \n",
       "3   37250  POLYGON Z ((-751438.114 -1040000.131 352.919, ...     200908   \n",
       "\n",
       "       ML ZMENA  KATUZE_KOD  SKUPINA              TYP  ID_FACE  Shape_Leng  \\\n",
       "0  Bero00  None      729710        9  zakladova deska        6   24.376179   \n",
       "1  Bero00  None      729795        9  zakladova deska       16   37.731311   \n",
       "2  Bero00  None      729710        9  zakladova deska       26   16.475862   \n",
       "3  Bero00  None      729795        9  zakladova deska       33   18.978562   \n",
       "\n",
       "   Shape_Area  height  \n",
       "0   37.061627   4.856  \n",
       "1   88.615396  11.748  \n",
       "2   11.239934   5.911  \n",
       "3   22.232850   4.918  "
      ]
     },
     "execution_count": 5,
     "metadata": {},
     "output_type": "execute_result"
    }
   ],
   "source": [
    "elem_shp = ['TYP','zakladova deska','svisla obvodova stena']\n",
    "walls_to_height_shp(gdf,'ID_BUD',elem_shp)\n",
    "\n",
    "# walls_to_height_shp: OK"
   ]
  },
  {
   "cell_type": "markdown",
   "id": "45cdc82b",
   "metadata": {},
   "source": [
    "## GML"
   ]
  },
  {
   "cell_type": "code",
   "execution_count": 9,
   "id": "a8f5b23b",
   "metadata": {},
   "outputs": [],
   "source": [
    "bldg_elem = 'bldg:Building'"
   ]
  },
  {
   "cell_type": "code",
   "execution_count": 10,
   "id": "651998b9",
   "metadata": {},
   "outputs": [],
   "source": [
    "file_paths = {'ch':os.path.join(path_data,'ch.gml'),\n",
    "              'sa':os.path.join(path_data,'sachsen.gml'),\n",
    "              'lu':os.path.join(path_data,'lux.gml'),\n",
    "              'ha':os.path.join(path_data,'hamburg.xml'),\n",
    "              'se':os.path.join(path_data,'sevilla_building.gml')}"
   ]
  },
  {
   "cell_type": "code",
   "execution_count": 17,
   "id": "9fb37bd0",
   "metadata": {},
   "outputs": [],
   "source": [
    "files = ['ch','sa','lu','ha']"
   ]
  },
  {
   "cell_type": "code",
   "execution_count": 20,
   "id": "c9ce48ca",
   "metadata": {},
   "outputs": [
    {
     "name": "stdout",
     "output_type": "stream",
     "text": [
      "ch\n",
      "sa\n",
      "lu\n",
      "ha\n",
      "se\n"
     ]
    }
   ],
   "source": [
    "bldg_elem_list = {f:'' for f in files}\n",
    "gml_root = {f:'' for f in files}\n",
    "\n",
    "for f in files:\n",
    "    gml = etree.parse(file_paths[f])\n",
    "    gml_root[f] = gml.getroot()\n",
    "    bldg_elem_list[f] = get_bldg_elements(gml,gml_root[f],bldg_elem) \n",
    "    print(f)\n",
    "\n",
    "bldg_elem_se = 'bu-ext2d:Building'\n",
    "gml = etree.parse(file_paths['se'])\n",
    "gml_root['se'] = gml.getroot()\n",
    "bldg_elem_list['se'] = get_bldg_elements(gml,gml_root['se'],bldg_elem_se)\n",
    "print('se')\n",
    "# get_bldg_elements: OK"
   ]
  },
  {
   "cell_type": "code",
   "execution_count": 35,
   "id": "862e5a8b",
   "metadata": {},
   "outputs": [],
   "source": [
    "elem = {f:'' for f in files+['se']}\n",
    "for f in files+['se']: elem[f] = bldg_elem_list[f][0]"
   ]
  },
  {
   "cell_type": "code",
   "execution_count": 11,
   "id": "df508069",
   "metadata": {
    "collapsed": true
   },
   "outputs": [
    {
     "name": "stdout",
     "output_type": "stream",
     "text": [
      "['_6F33B4C3-F009-428F-BCB3-F9A35CD0BF5C', '_3374B83F-65B8-42C6-B38E-4B697AB78FED', '_CAC0C79F-77BE-4314-BDAC-9FAA3D45BCFF', '_AAA5442C-7BA8-4C3D-BA03-C032D92D9746', '_7F1E8F61-89C0-4B72-BC51-213D1D3F4A62', '_ECD11BA8-FA2E-42B6-8FC4-DEA51AB0317D', '_D8A3FE06-1DE7-4054-8CB2-76840AA51500', '_A55E976C-9B7B-4186-A33B-E8061937FA0E', '_F4102C7D-00F2-4F66-9754-E81E656769A1', '_8BC8CE22-23BB-4DDB-8224-7D81533DF47F', '_4A9C2C87-8FF4-427E-AF4C-02900D9E5319', '_94238EF7-8163-4A6C-80FA-62FCA7122AC4', '_5311BDE8-AA76-4C00-8AFE-D815AE4636F9', '_3728C1DC-9D5C-49D4-B6C0-5F3A513D293F', '_6B015F11-F5D6-482F-A8F3-2DCCDE2973AC', '_CE43A0F9-A4D7-489B-8922-D57902745180', '_CC54283F-21B7-4F89-81C4-4403B2D9E5BD', '_373B14F5-B708-44DE-8D60-DA824BDEFDA8', '_61590BAE-F452-4CA7-B65F-654DA1085951', '_D88F48BA-5884-4EFE-9B10-CBA1085F41CB', '_D260116E-FB8D-4670-BA1E-E2F39563F661', '_DBE53C96-A9F7-4FD7-B63B-F05DCFFF5E4C', '_46DD39CC-968E-4631-A93D-3F632DA43F54', '_8515F063-8579-4E97-AA75-8950E50F4760', '_D25B18A4-EE59-4F40-9809-2A57A84A7513', '_F7315898-F796-4AD9-989E-01AD78CAACF7', '_69056107-A271-4D62-BE6D-65C4784C0ABA', '_069C42DF-AD92-4038-98BD-E0F658B6BE73', '_328C6552-3B8E-4F40-AD83-0694AA7D48F2', '_1E0DEBD1-966C-4B32-AA51-669AE263E335', '_03FC9294-746C-4E49-B2B5-BC28CE67CE16', '_DC2E9448-9C9E-49B1-BC9B-FC915B7B2A1D', '_C353EE50-F9E5-4624-A9C0-546CC5070D54', '_D4A0FCEF-612A-4A16-8551-7E98761EE7D1', '_D3F3DDF2-1B68-4D73-A1FD-B1DF5CABFF89', '_832B0BD3-C7C4-4C54-877D-44F3EE9AE6C3', '_D22D6B8D-1CC6-4329-B5E6-9429B7973BF6', '_782D4EFC-FB2A-41E3-BF8F-A03201D03B4B', '_81AB01B1-11DB-449F-8FC6-D8D5105E540B', '_AFDD737A-9AF3-47FC-9983-D721646702CD', '_A0418BF1-F652-4AF7-A976-161567BD2526', '_4322A1B0-E97D-41BE-AC22-EE75B748B594', '_646BC5F0-78E4-4956-AD46-CCA565E69F94', '_19A0DF2A-B528-4858-9C52-3A1EDEF7AA2B', '_B22D1BED-4A28-4D61-BA37-7D0F24B2352B', '_386756A3-08A9-4595-A387-FADFFCEB5682', '_D46FD5A8-2F2F-4CF2-8E67-A90803FDBF0D', '_B28F03D3-5E26-4083-95F8-55415ADD02BA', '_8BA66917-9EAD-47D2-9C49-01261470AD84', '_DB366688-D59A-4252-B8E3-6A5B27A31CAB', '_0E11459B-AF5B-4237-A1DE-4E57A39E289A', '_7F14BB1A-4547-445B-9B25-93A0F2BA127A', '_58ECDE4C-C2F3-41CB-9286-A987669C8FDE', '_D21E4B93-C4CE-41F1-8D62-1B2DD17A315A', '_66BE1F1C-9AF6-4552-B3FB-DFAD3C8C0B9E', '_0BF95336-8D19-4EAE-A191-7B5EBF422D80', '_62918E7F-29D7-4F63-858C-3ADC3859FCB7']\n",
      "ch\n",
      "['DESNATPU1000G8RY', 'DESNATPU1000ILGl', 'DESNATPU1000HvHF', 'DESNATPU1000GPlg', 'DESNATPU1000E7CC', 'DESNATPU1000I9cS', 'DESNATPU1000BOos', 'DESNATPU1000CGOf', 'DESNATPU1000JQFp', 'DESNATPU1000GzKV', 'DESNATPU1000CLJd', 'DESNATPU1000CIYO', 'DESNATPU1000HcsV', 'DESNATPU1000C6s8', 'DESNATPU1000JDcb', 'DESNATPU1000HT13', 'DESNATPU1000EQ6T']\n",
      "sa\n",
      "['DEHH_c45e7b48-dc6f-4199-bdde-232530770d24', 'DEHH_32d3d30f-5717-4dea-a37c-b7b7efc59691', 'DEHH_1f2589f5-25d8-4d5d-8ce1-3ecae3278e38', 'DEHH_4319fb0f-9511-4496-8552-0d5eb734a1dd']\n",
      "ha\n"
     ]
    }
   ],
   "source": [
    "for f in ['ch','sa','ha']: \n",
    "    print(get_ids(bldg_elem_list[f],gml_root[f]))\n",
    "    print(f)\n",
    "    \n",
    "# get_ids: OK"
   ]
  },
  {
   "cell_type": "code",
   "execution_count": 12,
   "id": "57e3536d",
   "metadata": {
    "collapsed": true
   },
   "outputs": [
    {
     "name": "stdout",
     "output_type": "stream",
     "text": [
      "7.193\n"
     ]
    }
   ],
   "source": [
    "height_elem = 'bldg:measuredHeight'\n",
    "list_h = elem['sa'].findall(\".//{}\".format(height_elem),gml_root['sa'].nsmap)\n",
    "print(list_elem_to_max(list_h))\n",
    "\n",
    "# list_elem_to_max: OK"
   ]
  },
  {
   "cell_type": "code",
   "execution_count": 13,
   "id": "f4a7dbb6",
   "metadata": {
    "collapsed": true
   },
   "outputs": [
    {
     "data": {
      "text/plain": [
       "[7.193,\n",
       " 11.983,\n",
       " 6.0,\n",
       " 4.679,\n",
       " 9.633,\n",
       " 3.878,\n",
       " 5.821,\n",
       " 3.016,\n",
       " 2.768,\n",
       " 11.962,\n",
       " 3.191,\n",
       " 11.206,\n",
       " 3.76,\n",
       " 5.714,\n",
       " 5.215,\n",
       " 6.521,\n",
       " 5.216]"
      ]
     },
     "execution_count": 13,
     "metadata": {},
     "output_type": "execute_result"
    }
   ],
   "source": [
    "height_elem = 'bldg:measuredHeight'\n",
    "get_var_attrib(height_elem,bldg_elem_list['sa'],gml_root['sa'])\n",
    "\n",
    "# get_var_attrib: OK"
   ]
  },
  {
   "cell_type": "code",
   "execution_count": 13,
   "id": "b6ec6273",
   "metadata": {},
   "outputs": [
    {
     "name": "stdout",
     "output_type": "stream",
     "text": [
      "['2015', '2012', '2015', '2015', '2015', '2015', '2015', '2018', '2015', '2018', '2015', '2015', '2015', '2018', '2015', '2015', '2018', '2015', '2018', '2015', '2015', '2015', '2015', '2012', '2015', '2015', '2015', '2018', '2015', '2015', '2018', '2012', '2015', '2015', '2015', '2012', '2015', '2015', '2018', '2012', '2015', '2015', '2012', '2015', '2015', '2015', '2012', '2012', '2015', '2015', '2015', '2015', '2018', '2015', '2015', '2015', '2015']\n"
     ]
    }
   ],
   "source": [
    "str_elem = 'gen:intAttribute/[@name=\"HERKUNFT_JAHR\"]/gen:value'\n",
    "for f in ['ch']: \n",
    "    print(get_uni_attrib(str_elem,bldg_elem_list[f],gml_root[f]))\n",
    "\n",
    "# get_uni_attrib: OK "
   ]
  },
  {
   "cell_type": "code",
   "execution_count": null,
   "id": "622465f6",
   "metadata": {},
   "outputs": [],
   "source": [
    "str_elem = 'bldg:function'\n",
    "for f in ['sa','ha']: \n",
    "    print(get_uni_attrib(str_elem,bldg_elem_list[f],gml_root[f]))\n",
    "\n",
    "# get_uni_attrib: OK "
   ]
  },
  {
   "cell_type": "code",
   "execution_count": 14,
   "id": "d63b8502",
   "metadata": {},
   "outputs": [],
   "source": [
    "ground_elem = 'bldg:GroundSurface//gml:posList'\n",
    "list_foot_elems = {f:'' for f in ['ch','sa']}\n",
    "polys = {f:'' for f in ['ch','sa']}\n",
    "for f in ['ch','sa']:\n",
    "    list_poly_elem = elem[f].findall(\".//{}\".format(ground_elem),gml_root[f].nsmap)\n",
    "    polys[f] = poly_converter(list_poly_elem)\n",
    "\n",
    "# poly_converter: OK"
   ]
  },
  {
   "cell_type": "code",
   "execution_count": 26,
   "id": "287aa046",
   "metadata": {},
   "outputs": [
    {
     "data": {
      "image/svg+xml": [
       "<svg xmlns=\"http://www.w3.org/2000/svg\" xmlns:xlink=\"http://www.w3.org/1999/xlink\" width=\"100.0\" height=\"100.0\" viewBox=\"281507.0892 5604296.679199999 9.241600000008475 11.361600001342595\" preserveAspectRatio=\"xMinYMin meet\"><g transform=\"matrix(1,0,0,-1,0,11208604.719999999)\"><path fill-rule=\"evenodd\" fill=\"#66cc99\" stroke=\"#555555\" stroke-width=\"0.2272320000268519\" opacity=\"0.6\" d=\"M 281515.91,5604298.81 L 281511.33,5604297.1 L 281507.51,5604305.52 L 281512.15,5604307.62 L 281515.91,5604298.81 z\" /></g></svg>"
      ],
      "text/plain": [
       "<shapely.geometry.polygon.Polygon at 0x19dddf89b20>"
      ]
     },
     "execution_count": 26,
     "metadata": {},
     "output_type": "execute_result"
    }
   ],
   "source": [
    "polys['sa']"
   ]
  },
  {
   "cell_type": "code",
   "execution_count": 37,
   "id": "8691c620",
   "metadata": {},
   "outputs": [
    {
     "data": {
      "image/svg+xml": [
       "<svg xmlns=\"http://www.w3.org/2000/svg\" xmlns:xlink=\"http://www.w3.org/1999/xlink\" width=\"100.0\" height=\"100.0\" viewBox=\"240283.1 4144731.45 59.94999999998254 61.29000000003725\" preserveAspectRatio=\"xMinYMin meet\"><g transform=\"matrix(1,0,0,-1,0,8289524.19)\"><g><path fill-rule=\"evenodd\" fill=\"#66cc99\" stroke=\"#555555\" stroke-width=\"1.225800000000745\" opacity=\"0.6\" d=\"M 240321.44,4144748.59 L 240323.93,4144743.68 L 240304.31,4144733.72 L 240301.82,4144738.63 L 240321.44,4144748.59 z\" /><path fill-rule=\"evenodd\" fill=\"#66cc99\" stroke=\"#555555\" stroke-width=\"1.225800000000745\" opacity=\"0.6\" d=\"M 240335.99,4144759.27 L 240331.76,4144773.66 L 240336.55,4144775.07 L 240340.78,4144760.68 L 240335.99,4144759.27 z\" /><path fill-rule=\"evenodd\" fill=\"#66cc99\" stroke=\"#555555\" stroke-width=\"1.225800000000745\" opacity=\"0.6\" d=\"M 240296.36,4144753.32 L 240288.78,4144768.94 L 240286.51,4144773.67 L 240287.19,4144773.94 L 240302.56,4144781.29 L 240305.1,4144775.96 L 240297.81,4144772.48 L 240305.15,4144757.68 L 240296.36,4144753.32 z\" /><path fill-rule=\"evenodd\" fill=\"#66cc99\" stroke=\"#555555\" stroke-width=\"1.225800000000745\" opacity=\"0.6\" d=\"M 240296.24,4144783.24 L 240289.01,4144779.74 L 240285.37,4144787.24 L 240292.73,4144790.47 L 240296.24,4144783.24 z\" /></g></g></svg>"
      ],
      "text/plain": [
       "<shapely.geometry.multipolygon.MultiPolygon at 0x19de088f250>"
      ]
     },
     "execution_count": 37,
     "metadata": {},
     "output_type": "execute_result"
    }
   ],
   "source": [
    "ground_elem = 'gml:Surface//gml:posList'\n",
    "list_poly_elem = elem['se'].findall(\".//{}\".format(ground_elem),gml_root['se'].nsmap)\n",
    "polys['se'] = poly_converter(list_poly_elem,mode='2d')\n",
    "polys['se']\n",
    "\n",
    "# poly_converter (2d mode): OK"
   ]
  },
  {
   "cell_type": "code",
   "execution_count": 17,
   "id": "9f66f51a",
   "metadata": {
    "collapsed": true
   },
   "outputs": [
    {
     "data": {
      "image/svg+xml": [
       "<svg xmlns=\"http://www.w3.org/2000/svg\" xmlns:xlink=\"http://www.w3.org/1999/xlink\" width=\"100.0\" height=\"100.0\" viewBox=\"5938279.56824 5938279.56824 4.691519999876618 4.691519999876618\" preserveAspectRatio=\"xMinYMin meet\"><g transform=\"matrix(1,0,0,-1,0,11876563.828)\"><path fill-rule=\"evenodd\" fill=\"#ff3333\" stroke=\"#555555\" stroke-width=\"0.09383039999753237\" opacity=\"0.6\" d=\"M 5938279.742,5938279.742 L 5938281.65,5938281.65 L 5938284.086,5938284.086 L 5938282.137,5938282.137 L 5938279.742,5938279.742 z\" /></g></svg>"
      ],
      "text/plain": [
       "<shapely.geometry.polygon.Polygon at 0x22e13093850>"
      ]
     },
     "execution_count": 17,
     "metadata": {},
     "output_type": "execute_result"
    }
   ],
   "source": [
    "ground_elem = 'bldg:GroundSurface//gml:pos'\n",
    "list_point_elem = elem['ha'].findall(\".//{}\".format(ground_elem),gml_root['ha'].nsmap)\n",
    "poly = point_converter(list_point_elem)\n",
    "poly \n",
    "# point_converter: DOES NOT SEEM OK"
   ]
  },
  {
   "cell_type": "code",
   "execution_count": 18,
   "id": "237eff8d",
   "metadata": {
    "collapsed": true
   },
   "outputs": [
    {
     "name": "stdout",
     "output_type": "stream",
     "text": [
      "11.49\n",
      "(11.49, 610.5637519990386)\n",
      "7.19\n",
      "(7.19, 491.7277142857143)\n"
     ]
    }
   ],
   "source": [
    "wall_elem = 'bldg:WallSurface//gml:posList'\n",
    "meshes = {f:'' for f in ['ch','sa']}\n",
    "\n",
    "for f in ['ch','sa']:\n",
    "    meshes[f] = elem[f].findall(\".//{}\".format(wall_elem),gml_root[f].nsmap)\n",
    "    print(surface_to_height(meshes[f],sngl=False,av=False))\n",
    "    print(surface_to_height(meshes[f],sngl=False,av=True))\n",
    "\n",
    "# surface_to_height, sngl=False case: OK"
   ]
  },
  {
   "cell_type": "code",
   "execution_count": 19,
   "id": "7d0fb63f",
   "metadata": {
    "collapsed": true
   },
   "outputs": [
    {
     "data": {
      "text/plain": [
       "(0.0, 345.5)"
      ]
     },
     "execution_count": 19,
     "metadata": {},
     "output_type": "execute_result"
    }
   ],
   "source": [
    "surf_elem = 'gml:surfaceMember//gml:posList'\n",
    "meshes = elem['lu'].findall(\".//{}\".format(surf_elem),gml_root['lu'].nsmap)\n",
    "surface_to_height(meshes[0],sngl=True,av=True)\n",
    "\n",
    "# surface_to_height, sngl=True case: OK"
   ]
  },
  {
   "cell_type": "code",
   "execution_count": 20,
   "id": "add1884a",
   "metadata": {
    "collapsed": true
   },
   "outputs": [
    {
     "name": "stdout",
     "output_type": "stream",
     "text": [
      "[11.49, 4.65, 15.52, 7.45, 15.28, 16.56, 0.1, 0.42, 10.8, 4.54, 0.1, 5.94, 11.65, 0.98, 10.07, 8.9, 9.53, 11.84, 14.78, 7.24, 0.1, 20.71, 14.29, 7.57, 13.76, 9.76, 12.62, 5.84, 16.94, 7.28, 10.74, 4.64, 15.87, 9.19, 11.13, 17.77, 9.43, 1.21, 7.75, 15.28, 5.43, 7.81, 17.56, 8.24, 0.1, 18.15, 6.27, 22.38, 11.09, 16.85, 13.2, 9.79, 14.55, 12.02, 5.68, 11.24, 10.02]\n",
      "[7.19, 9.97, 6.0, 4.68, 9.63, 3.88, 5.82, 3.02, 2.77, 11.96, 3.19, 11.21, 3.76, 5.71, 5.22, 6.52, 5.22]\n"
     ]
    }
   ],
   "source": [
    "wall_elem = 'bldg:WallSurface//gml:posList'\n",
    "for f in ['ch','sa']:\n",
    "    print(get_heights_wall(wall_elem,bldg_elem_list[f],gml_root[f]))\n",
    "\n",
    "# get_heights_wall: OK"
   ]
  },
  {
   "cell_type": "code",
   "execution_count": 21,
   "id": "2e7de1e8",
   "metadata": {
    "collapsed": true
   },
   "outputs": [
    {
     "data": {
      "text/plain": [
       "0"
      ]
     },
     "execution_count": 21,
     "metadata": {},
     "output_type": "execute_result"
    }
   ],
   "source": [
    "surf_elem = 'gml:surfaceMember//gml:posList'\n",
    "list_surf_elem = elem['ha'].findall(\".//{}\".format(ground_elem),gml_root['ha'].nsmap)\n",
    "ground_surf_solid_idx(list_surf_elem)\n",
    "\n",
    "# ground_surf_solid_idx: OK"
   ]
  },
  {
   "cell_type": "code",
   "execution_count": 22,
   "id": "168c57ca",
   "metadata": {
    "collapsed": true
   },
   "outputs": [
    {
     "name": "stdout",
     "output_type": "stream",
     "text": [
      "[<shapely.geometry.polygon.Polygon object at 0x0000022E1301ED00>, <shapely.geometry.polygon.Polygon object at 0x0000022E0F643DF0>, <shapely.geometry.polygon.Polygon object at 0x0000022E130715B0>, <shapely.geometry.polygon.Polygon object at 0x0000022E13071940>, <shapely.geometry.polygon.Polygon object at 0x0000022E13071D30>, <shapely.geometry.polygon.Polygon object at 0x0000022E13071C10>, <shapely.geometry.polygon.Polygon object at 0x0000022E13071BB0>, <shapely.geometry.polygon.Polygon object at 0x0000022E13071820>, <shapely.geometry.polygon.Polygon object at 0x0000022E13071EE0>, <shapely.geometry.polygon.Polygon object at 0x0000022E13071B20>, <shapely.geometry.polygon.Polygon object at 0x0000022E130718B0>, <shapely.geometry.polygon.Polygon object at 0x0000022E13071580>, <shapely.geometry.multipolygon.MultiPolygon object at 0x0000022E130717F0>, <shapely.geometry.polygon.Polygon object at 0x0000022E1301EC40>, <shapely.geometry.polygon.Polygon object at 0x0000022E0F643040>, <shapely.geometry.polygon.Polygon object at 0x0000022E0F6434C0>, <shapely.geometry.polygon.Polygon object at 0x0000022E13071610>, <shapely.geometry.polygon.Polygon object at 0x0000022E130714F0>, <shapely.geometry.polygon.Polygon object at 0x0000022E13071910>, <shapely.geometry.polygon.Polygon object at 0x0000022E130719D0>, <shapely.geometry.polygon.Polygon object at 0x0000022E13071FD0>, <shapely.geometry.polygon.Polygon object at 0x0000022E13093FA0>, <shapely.geometry.polygon.Polygon object at 0x0000022E13093CA0>, <shapely.geometry.polygon.Polygon object at 0x0000022E13093640>, <shapely.geometry.polygon.Polygon object at 0x0000022E13093C40>, <shapely.geometry.polygon.Polygon object at 0x0000022E13093B50>, <shapely.geometry.polygon.Polygon object at 0x0000022E13093DC0>, <shapely.geometry.polygon.Polygon object at 0x0000022E13093910>, <shapely.geometry.polygon.Polygon object at 0x0000022E13093550>, <shapely.geometry.polygon.Polygon object at 0x0000022E13093B20>, <shapely.geometry.polygon.Polygon object at 0x0000022E13093BE0>, <shapely.geometry.polygon.Polygon object at 0x0000022E13093310>, <shapely.geometry.polygon.Polygon object at 0x0000022E13093E50>, <shapely.geometry.polygon.Polygon object at 0x0000022E13093A90>, <shapely.geometry.polygon.Polygon object at 0x0000022E13093280>, <shapely.geometry.polygon.Polygon object at 0x0000022E13093AF0>, <shapely.geometry.multipolygon.MultiPolygon object at 0x0000022E13093400>, <shapely.geometry.polygon.Polygon object at 0x0000022E13093880>, <shapely.geometry.polygon.Polygon object at 0x0000022E13093580>, <shapely.geometry.polygon.Polygon object at 0x0000022E13093EB0>, <shapely.geometry.polygon.Polygon object at 0x0000022E13093F10>, <shapely.geometry.polygon.Polygon object at 0x0000022E13093130>, <shapely.geometry.polygon.Polygon object at 0x0000022E13093C70>, <shapely.geometry.polygon.Polygon object at 0x0000022E13093CD0>, <shapely.geometry.polygon.Polygon object at 0x0000022E13093970>, <shapely.geometry.polygon.Polygon object at 0x0000022E130936D0>, <shapely.geometry.polygon.Polygon object at 0x0000022E13093A00>, <shapely.geometry.polygon.Polygon object at 0x0000022E130938E0>, <shapely.geometry.polygon.Polygon object at 0x0000022E13093940>, <shapely.geometry.polygon.Polygon object at 0x0000022E13093370>, <shapely.geometry.polygon.Polygon object at 0x0000022E13093040>, <shapely.geometry.polygon.Polygon object at 0x0000022E130933A0>, <shapely.geometry.polygon.Polygon object at 0x0000022E130935E0>, <shapely.geometry.polygon.Polygon object at 0x0000022E13093790>, <shapely.geometry.polygon.Polygon object at 0x0000022E13093670>, <shapely.geometry.polygon.Polygon object at 0x0000022E13093C10>, <shapely.geometry.polygon.Polygon object at 0x0000022E13093610>]\n",
      "[<shapely.geometry.polygon.Polygon object at 0x0000022E11FBCEE0>, <shapely.geometry.polygon.Polygon object at 0x0000022E0F643040>, <shapely.geometry.polygon.Polygon object at 0x0000022E0F6434C0>, <shapely.geometry.polygon.Polygon object at 0x0000022E130715B0>, <shapely.geometry.polygon.Polygon object at 0x0000022E13071820>, <shapely.geometry.polygon.Polygon object at 0x0000022E13071D30>, <shapely.geometry.polygon.Polygon object at 0x0000022E13071940>, <shapely.geometry.polygon.Polygon object at 0x0000022E130718B0>, <shapely.geometry.polygon.Polygon object at 0x0000022E13071580>, <shapely.geometry.polygon.Polygon object at 0x0000022E130717F0>, <shapely.geometry.polygon.Polygon object at 0x0000022E13071BB0>, <shapely.geometry.polygon.Polygon object at 0x0000022E13071EE0>, <shapely.geometry.polygon.Polygon object at 0x0000022E130714F0>, <shapely.geometry.polygon.Polygon object at 0x0000022E13071910>, <shapely.geometry.multipolygon.MultiPolygon object at 0x0000022E13071610>, <shapely.geometry.polygon.Polygon object at 0x0000022E13071FD0>, <shapely.geometry.polygon.Polygon object at 0x0000022E13071FA0>]\n"
     ]
    }
   ],
   "source": [
    "ft_elem = 'bldg:GroundSurface//gml:posList'\n",
    "for f in ['ch','sa']:\n",
    "    print(get_footprints(ft_elem,bldg_elem_list[f],gml_root[f],pt=False,solid=None))\n",
    "\n",
    "# get_footprint, base case: OK"
   ]
  },
  {
   "cell_type": "code",
   "execution_count": 23,
   "id": "acc5ab3d",
   "metadata": {
    "collapsed": true
   },
   "outputs": [
    {
     "data": {
      "text/plain": [
       "[<shapely.geometry.polygon.Polygon at 0x22e13071730>,\n",
       " <shapely.geometry.polygon.Polygon at 0x22e13071640>,\n",
       " <shapely.geometry.polygon.Polygon at 0x22e13071b50>,\n",
       " <shapely.geometry.polygon.Polygon at 0x22e13071e20>]"
      ]
     },
     "execution_count": 23,
     "metadata": {},
     "output_type": "execute_result"
    }
   ],
   "source": [
    "ft_elem = 'bldg:GroundSurface//gml:pos'\n",
    "get_footprints(ft_elem,bldg_elem_list['ha'],gml_root['ha'],pt=True,solid=None)\n",
    "\n",
    "# get_footprint, point case: OK (s.t. point converter being OK)"
   ]
  },
  {
   "cell_type": "code",
   "execution_count": 8,
   "id": "7d14531b",
   "metadata": {
    "collapsed": true
   },
   "outputs": [
    {
     "data": {
      "text/plain": [
       "[<shapely.geometry.polygon.Polygon at 0x111ce754c70>,\n",
       " <shapely.geometry.polygon.Polygon at 0x111d102e610>,\n",
       " <shapely.geometry.polygon.Polygon at 0x111d102eeb0>,\n",
       " <shapely.geometry.polygon.Polygon at 0x111d3040b80>,\n",
       " <shapely.geometry.polygon.Polygon at 0x111d102e820>,\n",
       " <shapely.geometry.polygon.Polygon at 0x111d102e220>,\n",
       " <shapely.geometry.polygon.Polygon at 0x111d102e1f0>,\n",
       " <shapely.geometry.polygon.Polygon at 0x111d102ed60>,\n",
       " <shapely.geometry.polygon.Polygon at 0x111d102e6d0>,\n",
       " <shapely.geometry.polygon.Polygon at 0x111d30541c0>,\n",
       " <shapely.geometry.polygon.Polygon at 0x111d102edf0>,\n",
       " <shapely.geometry.polygon.Polygon at 0x111d102e580>,\n",
       " <shapely.geometry.polygon.Polygon at 0x111d30540a0>,\n",
       " <shapely.geometry.polygon.Polygon at 0x111d30542e0>,\n",
       " <shapely.geometry.polygon.Polygon at 0x111d3054070>,\n",
       " <shapely.geometry.polygon.Polygon at 0x111d30541f0>,\n",
       " <shapely.geometry.polygon.Polygon at 0x111d30540d0>,\n",
       " <shapely.geometry.polygon.Polygon at 0x111d3054100>,\n",
       " <shapely.geometry.polygon.Polygon at 0x111d3054190>,\n",
       " <shapely.geometry.polygon.Polygon at 0x111d3054130>,\n",
       " <shapely.geometry.polygon.Polygon at 0x111d3054460>,\n",
       " <shapely.geometry.polygon.Polygon at 0x111d3054280>,\n",
       " <shapely.geometry.polygon.Polygon at 0x111d3054430>,\n",
       " <shapely.geometry.polygon.Polygon at 0x111d30543a0>,\n",
       " <shapely.geometry.polygon.Polygon at 0x111d30542b0>,\n",
       " <shapely.geometry.polygon.Polygon at 0x111d3054400>,\n",
       " <shapely.geometry.polygon.Polygon at 0x111d3054220>,\n",
       " <shapely.geometry.polygon.Polygon at 0x111d3054340>,\n",
       " <shapely.geometry.polygon.Polygon at 0x111d30546a0>,\n",
       " <shapely.geometry.polygon.Polygon at 0x111d3054490>,\n",
       " <shapely.geometry.polygon.Polygon at 0x111d3054670>,\n",
       " <shapely.geometry.polygon.Polygon at 0x111d30545b0>,\n",
       " <shapely.geometry.polygon.Polygon at 0x111d30543d0>,\n",
       " <shapely.geometry.polygon.Polygon at 0x111d30544c0>,\n",
       " <shapely.geometry.polygon.Polygon at 0x111d3054310>,\n",
       " <shapely.geometry.polygon.Polygon at 0x111d3054520>,\n",
       " <shapely.geometry.polygon.Polygon at 0x111d3054250>,\n",
       " <shapely.geometry.polygon.Polygon at 0x111d3054370>,\n",
       " <shapely.geometry.polygon.Polygon at 0x111d3054550>,\n",
       " <shapely.geometry.polygon.Polygon at 0x111d3054580>,\n",
       " <shapely.geometry.polygon.Polygon at 0x111d3054640>,\n",
       " <shapely.geometry.polygon.Polygon at 0x111d3054610>,\n",
       " <shapely.geometry.polygon.Polygon at 0x111d30548b0>,\n",
       " <shapely.geometry.polygon.Polygon at 0x111d30547c0>,\n",
       " <shapely.geometry.polygon.Polygon at 0x111d3054880>,\n",
       " <shapely.geometry.polygon.Polygon at 0x111d3054760>,\n",
       " <shapely.geometry.polygon.Polygon at 0x111d3054850>,\n",
       " <shapely.geometry.polygon.Polygon at 0x111d30544f0>,\n",
       " <shapely.geometry.polygon.Polygon at 0x111d3054700>,\n",
       " <shapely.geometry.polygon.Polygon at 0x111d3054a00>,\n",
       " <shapely.geometry.polygon.Polygon at 0x111d3054790>,\n",
       " <shapely.geometry.polygon.Polygon at 0x111d3054910>,\n",
       " <shapely.geometry.polygon.Polygon at 0x111d3054970>,\n",
       " <shapely.geometry.polygon.Polygon at 0x111d3054ac0>,\n",
       " <shapely.geometry.polygon.Polygon at 0x111d30549d0>,\n",
       " <shapely.geometry.polygon.Polygon at 0x111d30547f0>,\n",
       " <shapely.geometry.polygon.Polygon at 0x111d3054b50>,\n",
       " <shapely.geometry.polygon.Polygon at 0x111d3054c40>,\n",
       " <shapely.geometry.polygon.Polygon at 0x111d3054a90>,\n",
       " <shapely.geometry.polygon.Polygon at 0x111d3054c10>,\n",
       " <shapely.geometry.polygon.Polygon at 0x111d3054af0>,\n",
       " <shapely.geometry.polygon.Polygon at 0x111d3054b20>,\n",
       " <shapely.geometry.polygon.Polygon at 0x111d3054b80>,\n",
       " <shapely.geometry.polygon.Polygon at 0x111d3054a60>,\n",
       " <shapely.geometry.polygon.Polygon at 0x111d3054be0>,\n",
       " <shapely.geometry.polygon.Polygon at 0x111d3054c70>,\n",
       " <shapely.geometry.polygon.Polygon at 0x111d3054940>,\n",
       " <shapely.geometry.polygon.Polygon at 0x111d3054a30>,\n",
       " <shapely.geometry.polygon.Polygon at 0x111d3054d60>,\n",
       " <shapely.geometry.polygon.Polygon at 0x111d3054bb0>,\n",
       " <shapely.geometry.polygon.Polygon at 0x111d3054d30>,\n",
       " <shapely.geometry.polygon.Polygon at 0x111d3054cd0>,\n",
       " <shapely.geometry.polygon.Polygon at 0x111d3054ca0>,\n",
       " <shapely.geometry.polygon.Polygon at 0x111d3054e50>,\n",
       " <shapely.geometry.polygon.Polygon at 0x111d30548e0>,\n",
       " <shapely.geometry.polygon.Polygon at 0x111d3054d90>,\n",
       " <shapely.geometry.polygon.Polygon at 0x111d3054f10>,\n",
       " <shapely.geometry.polygon.Polygon at 0x111d30546d0>,\n",
       " <shapely.geometry.polygon.Polygon at 0x111d3054fa0>,\n",
       " <shapely.geometry.polygon.Polygon at 0x111d3054e20>,\n",
       " <shapely.geometry.polygon.Polygon at 0x111d3054f70>,\n",
       " <shapely.geometry.polygon.Polygon at 0x111d3054f40>,\n",
       " <shapely.geometry.polygon.Polygon at 0x111d3054df0>,\n",
       " <shapely.geometry.polygon.Polygon at 0x111d3054ee0>,\n",
       " <shapely.geometry.polygon.Polygon at 0x111d3054fd0>,\n",
       " <shapely.geometry.polygon.Polygon at 0x111d3054eb0>,\n",
       " <shapely.geometry.polygon.Polygon at 0x111d3054e80>,\n",
       " <shapely.geometry.polygon.Polygon at 0x111d3054d00>,\n",
       " <shapely.geometry.polygon.Polygon at 0x111d3054dc0>,\n",
       " <shapely.geometry.polygon.Polygon at 0x111d3054730>,\n",
       " <shapely.geometry.polygon.Polygon at 0x111d30b8070>,\n",
       " <shapely.geometry.polygon.Polygon at 0x111d30b8130>,\n",
       " <shapely.geometry.polygon.Polygon at 0x111d3054820>,\n",
       " <shapely.geometry.polygon.Polygon at 0x111d30549a0>,\n",
       " <shapely.geometry.polygon.Polygon at 0x111d30b8220>,\n",
       " <shapely.geometry.polygon.Polygon at 0x111d30b80a0>,\n",
       " <shapely.geometry.polygon.Polygon at 0x111d30b8280>,\n",
       " <shapely.geometry.polygon.Polygon at 0x111d30b8310>,\n",
       " <shapely.geometry.polygon.Polygon at 0x111d30b8190>,\n",
       " <shapely.geometry.polygon.Polygon at 0x111d30b8520>,\n",
       " <shapely.geometry.polygon.Polygon at 0x111d30b83a0>,\n",
       " <shapely.geometry.polygon.Polygon at 0x111d30b84f0>,\n",
       " <shapely.geometry.polygon.Polygon at 0x111d30b81f0>,\n",
       " <shapely.geometry.polygon.Polygon at 0x111d30b8430>,\n",
       " <shapely.geometry.polygon.Polygon at 0x111d30b84c0>,\n",
       " <shapely.geometry.polygon.Polygon at 0x111d30b83d0>,\n",
       " <shapely.geometry.polygon.Polygon at 0x111d30b8610>,\n",
       " <shapely.geometry.polygon.Polygon at 0x111d30b8100>,\n",
       " <shapely.geometry.polygon.Polygon at 0x111d30b8400>,\n",
       " <shapely.geometry.polygon.Polygon at 0x111d30b85b0>,\n",
       " <shapely.geometry.polygon.Polygon at 0x111d30b8490>,\n",
       " <shapely.geometry.polygon.Polygon at 0x111d30b8250>,\n",
       " <shapely.geometry.polygon.Polygon at 0x111d30b82b0>,\n",
       " <shapely.geometry.polygon.Polygon at 0x111d30b8370>,\n",
       " <shapely.geometry.polygon.Polygon at 0x111d30b8730>,\n",
       " <shapely.geometry.polygon.Polygon at 0x111d30b8340>,\n",
       " <shapely.geometry.polygon.Polygon at 0x111d30b80d0>,\n",
       " <shapely.geometry.polygon.Polygon at 0x111d30b8700>,\n",
       " <shapely.geometry.polygon.Polygon at 0x111d30b87c0>,\n",
       " <shapely.geometry.polygon.Polygon at 0x111d30b81c0>,\n",
       " <shapely.geometry.polygon.Polygon at 0x111d30b86d0>,\n",
       " <shapely.geometry.polygon.Polygon at 0x111d30b8460>,\n",
       " <shapely.geometry.polygon.Polygon at 0x111d30b8160>,\n",
       " <shapely.geometry.polygon.Polygon at 0x111d30b8670>,\n",
       " <shapely.geometry.polygon.Polygon at 0x111d30b87f0>,\n",
       " <shapely.geometry.polygon.Polygon at 0x111d30b8760>,\n",
       " <shapely.geometry.polygon.Polygon at 0x111d30b8790>,\n",
       " <shapely.geometry.polygon.Polygon at 0x111d30b8040>,\n",
       " <shapely.geometry.polygon.Polygon at 0x111d30b86a0>,\n",
       " <shapely.geometry.polygon.Polygon at 0x111d30b88b0>,\n",
       " <shapely.geometry.polygon.Polygon at 0x111d30b8550>,\n",
       " <shapely.geometry.polygon.Polygon at 0x111d30b8850>,\n",
       " <shapely.geometry.polygon.Polygon at 0x111d30b8970>,\n",
       " <shapely.geometry.polygon.Polygon at 0x111d30b8940>,\n",
       " <shapely.geometry.polygon.Polygon at 0x111d30b89d0>,\n",
       " <shapely.geometry.polygon.Polygon at 0x111d30b8a30>,\n",
       " <shapely.geometry.polygon.Polygon at 0x111d30b89a0>,\n",
       " <shapely.geometry.polygon.Polygon at 0x111d30b88e0>,\n",
       " <shapely.geometry.polygon.Polygon at 0x111d30b8a90>,\n",
       " <shapely.geometry.polygon.Polygon at 0x111d30b8bb0>,\n",
       " <shapely.geometry.polygon.Polygon at 0x111d30b8c10>,\n",
       " <shapely.geometry.polygon.Polygon at 0x111d30b8b20>,\n",
       " <shapely.geometry.polygon.Polygon at 0x111d30b8ca0>,\n",
       " <shapely.geometry.polygon.Polygon at 0x111d30b82e0>,\n",
       " <shapely.geometry.polygon.Polygon at 0x111d30b8c70>,\n",
       " <shapely.geometry.polygon.Polygon at 0x111d30b8a00>,\n",
       " <shapely.geometry.polygon.Polygon at 0x111d30b8d30>,\n",
       " <shapely.geometry.polygon.Polygon at 0x111d30b8e80>,\n",
       " <shapely.geometry.polygon.Polygon at 0x111d30b85e0>,\n",
       " <shapely.geometry.polygon.Polygon at 0x111d30b8580>,\n",
       " <shapely.geometry.polygon.Polygon at 0x111d30b8d60>,\n",
       " <shapely.geometry.polygon.Polygon at 0x111d30b8dc0>,\n",
       " <shapely.geometry.polygon.Polygon at 0x111d30b8e50>,\n",
       " <shapely.geometry.polygon.Polygon at 0x111d30b8640>,\n",
       " <shapely.geometry.polygon.Polygon at 0x111d30b8820>,\n",
       " <shapely.geometry.polygon.Polygon at 0x111d30b8c40>,\n",
       " <shapely.geometry.polygon.Polygon at 0x111d30b8cd0>,\n",
       " <shapely.geometry.polygon.Polygon at 0x111d30b8e20>,\n",
       " <shapely.geometry.polygon.Polygon at 0x111d30b8d90>,\n",
       " <shapely.geometry.polygon.Polygon at 0x111d30b8a60>,\n",
       " <shapely.geometry.polygon.Polygon at 0x111d30b8df0>,\n",
       " <shapely.geometry.polygon.Polygon at 0x111d30b8f10>,\n",
       " <shapely.geometry.polygon.Polygon at 0x111d30b8f40>,\n",
       " <shapely.geometry.polygon.Polygon at 0x111d30b8f70>,\n",
       " <shapely.geometry.polygon.Polygon at 0x111d30b8b50>,\n",
       " <shapely.geometry.polygon.Polygon at 0x111d30b8ac0>,\n",
       " <shapely.geometry.polygon.Polygon at 0x111d30b8fa0>,\n",
       " <shapely.geometry.polygon.Polygon at 0x111d30b8fd0>,\n",
       " <shapely.geometry.polygon.Polygon at 0x111d30b8eb0>,\n",
       " <shapely.geometry.polygon.Polygon at 0x111d30b8ee0>,\n",
       " <shapely.geometry.polygon.Polygon at 0x111d30b8d00>,\n",
       " <shapely.geometry.polygon.Polygon at 0x111d30b8af0>,\n",
       " <shapely.geometry.polygon.Polygon at 0x111d30b8b80>,\n",
       " <shapely.geometry.polygon.Polygon at 0x111d30c10d0>,\n",
       " <shapely.geometry.polygon.Polygon at 0x111d30c1040>,\n",
       " <shapely.geometry.polygon.Polygon at 0x111d30c10a0>,\n",
       " <shapely.geometry.polygon.Polygon at 0x111d30c11c0>,\n",
       " <shapely.geometry.polygon.Polygon at 0x111d30c12e0>,\n",
       " <shapely.geometry.polygon.Polygon at 0x111d30c1400>,\n",
       " <shapely.geometry.polygon.Polygon at 0x111d30c1070>,\n",
       " <shapely.geometry.polygon.Polygon at 0x111d30c1430>,\n",
       " <shapely.geometry.polygon.Polygon at 0x111d30c13d0>,\n",
       " <shapely.geometry.polygon.Polygon at 0x111d30c1160>,\n",
       " <shapely.geometry.polygon.Polygon at 0x111d30c14f0>,\n",
       " <shapely.geometry.polygon.Polygon at 0x111d30c12b0>,\n",
       " <shapely.geometry.polygon.Polygon at 0x111d30c1130>,\n",
       " <shapely.geometry.polygon.Polygon at 0x111d30c1280>,\n",
       " <shapely.geometry.polygon.Polygon at 0x111d30c14c0>,\n",
       " <shapely.geometry.polygon.Polygon at 0x111d30c1490>,\n",
       " <shapely.geometry.polygon.Polygon at 0x111d30c1520>,\n",
       " <shapely.geometry.polygon.Polygon at 0x111d30c1580>,\n",
       " <shapely.geometry.polygon.Polygon at 0x111d30c11f0>,\n",
       " <shapely.geometry.polygon.Polygon at 0x111d30c1100>,\n",
       " <shapely.geometry.polygon.Polygon at 0x111d30c1550>,\n",
       " <shapely.geometry.polygon.Polygon at 0x111d30c1640>,\n",
       " <shapely.geometry.polygon.Polygon at 0x111d30c1460>,\n",
       " <shapely.geometry.polygon.Polygon at 0x111d30c1760>,\n",
       " <shapely.geometry.polygon.Polygon at 0x111d30c17c0>,\n",
       " <shapely.geometry.polygon.Polygon at 0x111d30c1340>,\n",
       " <shapely.geometry.polygon.Polygon at 0x111d30c17f0>,\n",
       " <shapely.geometry.polygon.Polygon at 0x111d30c15e0>,\n",
       " <shapely.geometry.polygon.Polygon at 0x111d30c15b0>,\n",
       " <shapely.geometry.polygon.Polygon at 0x111d30c1790>,\n",
       " <shapely.geometry.polygon.Polygon at 0x111d30c1190>,\n",
       " <shapely.geometry.polygon.Polygon at 0x111d30c1370>,\n",
       " <shapely.geometry.polygon.Polygon at 0x111d30c16a0>,\n",
       " <shapely.geometry.polygon.Polygon at 0x111d30c1610>,\n",
       " <shapely.geometry.polygon.Polygon at 0x111d30c1970>,\n",
       " <shapely.geometry.polygon.Polygon at 0x111d30c1a60>,\n",
       " <shapely.geometry.polygon.Polygon at 0x111d30c1a90>,\n",
       " <shapely.geometry.polygon.Polygon at 0x111d30c1820>,\n",
       " <shapely.geometry.polygon.Polygon at 0x111d30c19a0>,\n",
       " <shapely.geometry.polygon.Polygon at 0x111d30c1700>,\n",
       " <shapely.geometry.polygon.Polygon at 0x111d30c1250>,\n",
       " <shapely.geometry.polygon.Polygon at 0x111d30c1220>,\n",
       " <shapely.geometry.polygon.Polygon at 0x111d30c1b20>,\n",
       " <shapely.geometry.polygon.Polygon at 0x111d30c16d0>,\n",
       " <shapely.geometry.polygon.Polygon at 0x111d30c1af0>,\n",
       " <shapely.geometry.polygon.Polygon at 0x111d30c1730>,\n",
       " <shapely.geometry.polygon.Polygon at 0x111d30c13a0>,\n",
       " <shapely.geometry.polygon.Polygon at 0x111d30c18b0>,\n",
       " <shapely.geometry.polygon.Polygon at 0x111d30c1ac0>,\n",
       " <shapely.geometry.polygon.Polygon at 0x111d30c1b50>,\n",
       " <shapely.geometry.polygon.Polygon at 0x111d30c1c40>,\n",
       " <shapely.geometry.polygon.Polygon at 0x111d30c1bb0>,\n",
       " <shapely.geometry.polygon.Polygon at 0x111d30c1880>,\n",
       " <shapely.geometry.polygon.Polygon at 0x111d30c18e0>,\n",
       " <shapely.geometry.polygon.Polygon at 0x111d30c1d60>,\n",
       " <shapely.geometry.polygon.Polygon at 0x111d30c1910>,\n",
       " <shapely.geometry.polygon.Polygon at 0x111d30c1d30>,\n",
       " <shapely.geometry.polygon.Polygon at 0x111d30c1a00>,\n",
       " <shapely.geometry.polygon.Polygon at 0x111d30c1a30>,\n",
       " <shapely.geometry.polygon.Polygon at 0x111d30c1d00>,\n",
       " <shapely.geometry.polygon.Polygon at 0x111d30c1be0>,\n",
       " <shapely.geometry.polygon.Polygon at 0x111d30c1dc0>,\n",
       " <shapely.geometry.polygon.Polygon at 0x111d30c1df0>,\n",
       " <shapely.geometry.polygon.Polygon at 0x111d30c1ee0>,\n",
       " <shapely.geometry.polygon.Polygon at 0x111d30c1b80>,\n",
       " <shapely.geometry.polygon.Polygon at 0x111d30c1eb0>,\n",
       " <shapely.geometry.polygon.Polygon at 0x111d30c1d90>,\n",
       " <shapely.geometry.polygon.Polygon at 0x111d30c1fa0>,\n",
       " <shapely.geometry.polygon.Polygon at 0x111d30c1c70>,\n",
       " <shapely.geometry.polygon.Polygon at 0x111d30c1c10>,\n",
       " <shapely.geometry.polygon.Polygon at 0x111d30c19d0>,\n",
       " <shapely.geometry.polygon.Polygon at 0x111d30c1f70>,\n",
       " <shapely.geometry.polygon.Polygon at 0x111d30c1ca0>,\n",
       " <shapely.geometry.polygon.Polygon at 0x111d30c1f40>,\n",
       " <shapely.geometry.polygon.Polygon at 0x111d30c1e80>,\n",
       " <shapely.geometry.polygon.Polygon at 0x111d30c1cd0>,\n",
       " <shapely.geometry.polygon.Polygon at 0x111d30c1e50>,\n",
       " <shapely.geometry.polygon.Polygon at 0x111d30c1850>,\n",
       " <shapely.geometry.polygon.Polygon at 0x111d30c1e20>,\n",
       " <shapely.geometry.polygon.Polygon at 0x111d30c1f10>,\n",
       " <shapely.geometry.polygon.Polygon at 0x111d30c1940>,\n",
       " <shapely.geometry.polygon.Polygon at 0x111d30c1fd0>,\n",
       " <shapely.geometry.polygon.Polygon at 0x111d30c1310>,\n",
       " <shapely.geometry.polygon.Polygon at 0x111d30c4040>,\n",
       " <shapely.geometry.polygon.Polygon at 0x111d30c40a0>,\n",
       " <shapely.geometry.polygon.Polygon at 0x111d30c4280>,\n",
       " <shapely.geometry.polygon.Polygon at 0x111d30c41f0>,\n",
       " <shapely.geometry.polygon.Polygon at 0x111d30c43d0>,\n",
       " <shapely.geometry.polygon.Polygon at 0x111d30c4400>,\n",
       " <shapely.geometry.polygon.Polygon at 0x111d30c4250>,\n",
       " <shapely.geometry.polygon.Polygon at 0x111d30c4070>,\n",
       " <shapely.geometry.polygon.Polygon at 0x111d30c43a0>,\n",
       " <shapely.geometry.polygon.Polygon at 0x111d30c4370>,\n",
       " <shapely.geometry.polygon.Polygon at 0x111d30c41c0>,\n",
       " <shapely.geometry.polygon.Polygon at 0x111d30c4310>,\n",
       " <shapely.geometry.polygon.Polygon at 0x111d30c4520>,\n",
       " <shapely.geometry.polygon.Polygon at 0x111d30c4490>,\n",
       " <shapely.geometry.polygon.Polygon at 0x111d30c4580>,\n",
       " <shapely.geometry.polygon.Polygon at 0x111d30c4340>,\n",
       " <shapely.geometry.polygon.Polygon at 0x111d30c4160>,\n",
       " <shapely.geometry.polygon.Polygon at 0x111d30c44c0>,\n",
       " <shapely.geometry.polygon.Polygon at 0x111d30c4460>,\n",
       " <shapely.geometry.polygon.Polygon at 0x111d30c4100>,\n",
       " <shapely.geometry.polygon.Polygon at 0x111d30c42e0>,\n",
       " <shapely.geometry.polygon.Polygon at 0x111d30c45b0>,\n",
       " <shapely.geometry.polygon.Polygon at 0x111d30c44f0>,\n",
       " <shapely.geometry.polygon.Polygon at 0x111d30c4550>,\n",
       " <shapely.geometry.polygon.Polygon at 0x111d30c45e0>,\n",
       " <shapely.geometry.polygon.Polygon at 0x111d30c4670>,\n",
       " <shapely.geometry.polygon.Polygon at 0x111d30c42b0>,\n",
       " <shapely.geometry.polygon.Polygon at 0x111d30c4130>,\n",
       " <shapely.geometry.polygon.Polygon at 0x111d30c4190>,\n",
       " <shapely.geometry.polygon.Polygon at 0x111d30c4430>,\n",
       " <shapely.geometry.polygon.Polygon at 0x111d30c4610>,\n",
       " <shapely.geometry.polygon.Polygon at 0x111d30c4640>,\n",
       " <shapely.geometry.polygon.Polygon at 0x111d30c46a0>,\n",
       " <shapely.geometry.polygon.Polygon at 0x111d30c4880>,\n",
       " <shapely.geometry.polygon.Polygon at 0x111d30c40d0>,\n",
       " <shapely.geometry.polygon.Polygon at 0x111d30c4700>,\n",
       " <shapely.geometry.polygon.Polygon at 0x111d30c4910>,\n",
       " <shapely.geometry.polygon.Polygon at 0x111d30c4820>,\n",
       " <shapely.geometry.polygon.Polygon at 0x111d30c4850>,\n",
       " <shapely.geometry.polygon.Polygon at 0x111d30c49a0>,\n",
       " <shapely.geometry.polygon.Polygon at 0x111d30c48b0>,\n",
       " <shapely.geometry.polygon.Polygon at 0x111d30c4220>,\n",
       " <shapely.geometry.polygon.Polygon at 0x111d30c49d0>,\n",
       " <shapely.geometry.polygon.Polygon at 0x111d30c4b50>,\n",
       " <shapely.geometry.polygon.Polygon at 0x111d30c4790>,\n",
       " <shapely.geometry.polygon.Polygon at 0x111d30c4af0>,\n",
       " <shapely.geometry.polygon.Polygon at 0x111d30c4b20>,\n",
       " <shapely.geometry.polygon.Polygon at 0x111d30c4a30>,\n",
       " <shapely.geometry.polygon.Polygon at 0x111d30c4730>,\n",
       " <shapely.geometry.polygon.Polygon at 0x111d30c4ac0>,\n",
       " <shapely.geometry.polygon.Polygon at 0x111d30c4a60>,\n",
       " <shapely.geometry.polygon.Polygon at 0x111d30c4c70>,\n",
       " <shapely.geometry.polygon.Polygon at 0x111d30c47c0>,\n",
       " <shapely.geometry.polygon.Polygon at 0x111d30c4940>,\n",
       " <shapely.geometry.polygon.Polygon at 0x111d30c4be0>,\n",
       " <shapely.geometry.polygon.Polygon at 0x111d30c4bb0>,\n",
       " <shapely.geometry.polygon.Polygon at 0x111d30c4cd0>,\n",
       " <shapely.geometry.polygon.Polygon at 0x111d30c4ca0>,\n",
       " <shapely.geometry.polygon.Polygon at 0x111d30c4d30>,\n",
       " <shapely.geometry.polygon.Polygon at 0x111d30c4760>,\n",
       " <shapely.geometry.polygon.Polygon at 0x111d30c4a00>,\n",
       " <shapely.geometry.polygon.Polygon at 0x111d30c4b80>,\n",
       " <shapely.geometry.polygon.Polygon at 0x111d30c47f0>,\n",
       " <shapely.geometry.polygon.Polygon at 0x111d30c4970>,\n",
       " <shapely.geometry.polygon.Polygon at 0x111d30c4e20>,\n",
       " <shapely.geometry.polygon.Polygon at 0x111d30c4d60>,\n",
       " <shapely.geometry.polygon.Polygon at 0x111d30c4dc0>,\n",
       " <shapely.geometry.polygon.Polygon at 0x111d30c4d00>,\n",
       " <shapely.geometry.polygon.Polygon at 0x111d30c4c10>,\n",
       " <shapely.geometry.polygon.Polygon at 0x111d30c4e50>,\n",
       " <shapely.geometry.polygon.Polygon at 0x111d30c46d0>,\n",
       " <shapely.geometry.polygon.Polygon at 0x111d30c4f10>,\n",
       " <shapely.geometry.polygon.Polygon at 0x111d30c4eb0>,\n",
       " <shapely.geometry.polygon.Polygon at 0x111d30c4e80>,\n",
       " <shapely.geometry.polygon.Polygon at 0x111d30c4fa0>,\n",
       " <shapely.geometry.polygon.Polygon at 0x111d30c4fd0>,\n",
       " <shapely.geometry.polygon.Polygon at 0x111d30c4c40>,\n",
       " <shapely.geometry.polygon.Polygon at 0x111d30c4f40>,\n",
       " <shapely.geometry.polygon.Polygon at 0x111d30c4df0>,\n",
       " <shapely.geometry.polygon.Polygon at 0x111d30c4a90>,\n",
       " <shapely.geometry.polygon.Polygon at 0x111d30c4ee0>,\n",
       " <shapely.geometry.polygon.Polygon at 0x111d30c48e0>,\n",
       " <shapely.geometry.polygon.Polygon at 0x111d30c4d90>,\n",
       " <shapely.geometry.polygon.Polygon at 0x111d30c4f70>,\n",
       " <shapely.geometry.polygon.Polygon at 0x111d30ce250>,\n",
       " <shapely.geometry.polygon.Polygon at 0x111d30ce130>,\n",
       " <shapely.geometry.polygon.Polygon at 0x111d30ce340>,\n",
       " <shapely.geometry.polygon.Polygon at 0x111d30ce370>,\n",
       " <shapely.geometry.polygon.Polygon at 0x111d30ce220>,\n",
       " <shapely.geometry.polygon.Polygon at 0x111d30ce430>,\n",
       " <shapely.geometry.polygon.Polygon at 0x111d30ce3d0>,\n",
       " <shapely.geometry.polygon.Polygon at 0x111d30ce310>,\n",
       " <shapely.geometry.polygon.Polygon at 0x111d30ce3a0>,\n",
       " <shapely.geometry.polygon.Polygon at 0x111d30ce190>,\n",
       " <shapely.geometry.polygon.Polygon at 0x111d30ce280>,\n",
       " <shapely.geometry.polygon.Polygon at 0x111d30ce1c0>,\n",
       " <shapely.geometry.polygon.Polygon at 0x111d30ce2b0>,\n",
       " <shapely.geometry.polygon.Polygon at 0x111d30ce4f0>,\n",
       " <shapely.geometry.polygon.Polygon at 0x111d30ce100>,\n",
       " <shapely.geometry.polygon.Polygon at 0x111d30ce1f0>,\n",
       " <shapely.geometry.polygon.Polygon at 0x111d30ce610>,\n",
       " <shapely.geometry.polygon.Polygon at 0x111d30ce520>,\n",
       " <shapely.geometry.polygon.Polygon at 0x111d30ce5b0>,\n",
       " <shapely.geometry.polygon.Polygon at 0x111d30ce580>,\n",
       " <shapely.geometry.polygon.Polygon at 0x111d30ce6d0>,\n",
       " <shapely.geometry.polygon.Polygon at 0x111d30ce760>,\n",
       " <shapely.geometry.polygon.Polygon at 0x111d30ce070>,\n",
       " <shapely.geometry.polygon.Polygon at 0x111d30ce550>,\n",
       " <shapely.geometry.polygon.Polygon at 0x111d30ce2e0>,\n",
       " <shapely.geometry.polygon.Polygon at 0x111d30ce730>,\n",
       " <shapely.geometry.polygon.Polygon at 0x111d30ce700>,\n",
       " <shapely.geometry.polygon.Polygon at 0x111d30ce790>,\n",
       " <shapely.geometry.polygon.Polygon at 0x111d30ce6a0>,\n",
       " <shapely.geometry.polygon.Polygon at 0x111d30ce670>,\n",
       " <shapely.geometry.polygon.Polygon at 0x111d30ce7c0>,\n",
       " <shapely.geometry.polygon.Polygon at 0x111d30ce7f0>,\n",
       " <shapely.geometry.polygon.Polygon at 0x111d30ce4c0>,\n",
       " <shapely.geometry.polygon.Polygon at 0x111d30ce850>,\n",
       " <shapely.geometry.polygon.Polygon at 0x111d30ce8e0>,\n",
       " <shapely.geometry.polygon.Polygon at 0x111d30ce460>,\n",
       " <shapely.geometry.polygon.Polygon at 0x111d30ce0d0>,\n",
       " <shapely.geometry.polygon.Polygon at 0x111d30ce9d0>,\n",
       " <shapely.geometry.polygon.Polygon at 0x111d30ce940>,\n",
       " <shapely.geometry.polygon.Polygon at 0x111d30ce970>,\n",
       " <shapely.geometry.polygon.Polygon at 0x111d30ce040>,\n",
       " <shapely.geometry.polygon.Polygon at 0x111d30ce9a0>,\n",
       " <shapely.geometry.polygon.Polygon at 0x111d30cea30>,\n",
       " <shapely.geometry.polygon.Polygon at 0x111d30ceac0>,\n",
       " <shapely.geometry.polygon.Polygon at 0x111d30ce5e0>,\n",
       " <shapely.geometry.polygon.Polygon at 0x111d30ce910>,\n",
       " <shapely.geometry.polygon.Polygon at 0x111d30ce490>,\n",
       " <shapely.geometry.polygon.Polygon at 0x111d30ceb50>,\n",
       " <shapely.geometry.polygon.Polygon at 0x111d30cebb0>,\n",
       " <shapely.geometry.polygon.Polygon at 0x111d30ceb80>,\n",
       " <shapely.geometry.polygon.Polygon at 0x111d30ceaf0>,\n",
       " <shapely.geometry.polygon.Polygon at 0x111d30cea90>,\n",
       " <shapely.geometry.polygon.Polygon at 0x111d30ce8b0>,\n",
       " <shapely.geometry.polygon.Polygon at 0x111d30ce640>,\n",
       " <shapely.geometry.polygon.Polygon at 0x111d30ceb20>,\n",
       " <shapely.geometry.polygon.Polygon at 0x111d30cea00>,\n",
       " <shapely.geometry.polygon.Polygon at 0x111d30ce880>,\n",
       " <shapely.geometry.polygon.Polygon at 0x111d30cec10>,\n",
       " <shapely.geometry.polygon.Polygon at 0x111d30cec70>,\n",
       " <shapely.geometry.polygon.Polygon at 0x111d30ced60>,\n",
       " <shapely.geometry.polygon.Polygon at 0x111d30cedc0>,\n",
       " <shapely.geometry.polygon.Polygon at 0x111d30ced90>,\n",
       " <shapely.geometry.polygon.Polygon at 0x111d30cebe0>,\n",
       " <shapely.geometry.polygon.Polygon at 0x111d30ce820>,\n",
       " <shapely.geometry.polygon.Polygon at 0x111d30cecd0>,\n",
       " <shapely.geometry.polygon.Polygon at 0x111d30cec40>,\n",
       " <shapely.geometry.polygon.Polygon at 0x111d30ceca0>,\n",
       " <shapely.geometry.polygon.Polygon at 0x111d30cef40>,\n",
       " <shapely.geometry.polygon.Polygon at 0x111d30ced00>,\n",
       " <shapely.geometry.polygon.Polygon at 0x111d30cea60>,\n",
       " <shapely.geometry.polygon.Polygon at 0x111d30cef10>,\n",
       " <shapely.geometry.polygon.Polygon at 0x111d30ceee0>,\n",
       " <shapely.geometry.polygon.Polygon at 0x111d30cee20>,\n",
       " <shapely.geometry.polygon.Polygon at 0x111d30cef70>,\n",
       " <shapely.geometry.polygon.Polygon at 0x111d30cefd0>,\n",
       " <shapely.geometry.polygon.Polygon at 0x111d30ced30>,\n",
       " <shapely.geometry.polygon.Polygon at 0x111d30ceeb0>,\n",
       " <shapely.geometry.polygon.Polygon at 0x111d30cefa0>,\n",
       " <shapely.geometry.polygon.Polygon at 0x111d30cedf0>,\n",
       " <shapely.geometry.polygon.Polygon at 0x111d30cee80>,\n",
       " <shapely.geometry.polygon.Polygon at 0x111d30cee50>,\n",
       " <shapely.geometry.polygon.Polygon at 0x111d30ce0a0>,\n",
       " <shapely.geometry.polygon.Polygon at 0x111d30d4040>,\n",
       " <shapely.geometry.polygon.Polygon at 0x111d30d40d0>,\n",
       " <shapely.geometry.polygon.Polygon at 0x111d30d41c0>,\n",
       " <shapely.geometry.polygon.Polygon at 0x111d30d4160>,\n",
       " <shapely.geometry.polygon.Polygon at 0x111d30d40a0>,\n",
       " <shapely.geometry.polygon.Polygon at 0x111d30d4130>,\n",
       " <shapely.geometry.polygon.Polygon at 0x111d30d4100>,\n",
       " <shapely.geometry.polygon.Polygon at 0x111d30d42b0>,\n",
       " <shapely.geometry.polygon.Polygon at 0x111d30d4070>,\n",
       " <shapely.geometry.polygon.Polygon at 0x111d30d43a0>,\n",
       " <shapely.geometry.polygon.Polygon at 0x111d30d4400>,\n",
       " <shapely.geometry.polygon.Polygon at 0x111d30d4310>,\n",
       " <shapely.geometry.polygon.Polygon at 0x111d30d4460>,\n",
       " <shapely.geometry.polygon.Polygon at 0x111d30d4220>,\n",
       " <shapely.geometry.polygon.Polygon at 0x111d30d41f0>,\n",
       " <shapely.geometry.polygon.Polygon at 0x111d30d4250>,\n",
       " <shapely.geometry.polygon.Polygon at 0x111d30d4520>,\n",
       " <shapely.geometry.polygon.Polygon at 0x111d30d4370>,\n",
       " <shapely.geometry.polygon.Polygon at 0x111d30d45b0>,\n",
       " <shapely.geometry.polygon.Polygon at 0x111d30d45e0>,\n",
       " <shapely.geometry.polygon.Polygon at 0x111d30d4580>,\n",
       " <shapely.geometry.polygon.Polygon at 0x111d30d44f0>,\n",
       " <shapely.geometry.polygon.Polygon at 0x111d30d4550>,\n",
       " <shapely.geometry.polygon.Polygon at 0x111d30d4190>,\n",
       " <shapely.geometry.polygon.Polygon at 0x111d30d4280>,\n",
       " <shapely.geometry.polygon.Polygon at 0x111d30d4340>,\n",
       " <shapely.geometry.polygon.Polygon at 0x111d30d4430>,\n",
       " <shapely.geometry.polygon.Polygon at 0x111d30d4640>,\n",
       " <shapely.geometry.polygon.Polygon at 0x111d30d4700>,\n",
       " <shapely.geometry.polygon.Polygon at 0x111d30d46a0>,\n",
       " <shapely.geometry.polygon.Polygon at 0x111d30d4670>,\n",
       " <shapely.geometry.polygon.Polygon at 0x111d30d4610>,\n",
       " <shapely.geometry.polygon.Polygon at 0x111d30d44c0>,\n",
       " <shapely.geometry.polygon.Polygon at 0x111d30d4760>,\n",
       " <shapely.geometry.polygon.Polygon at 0x111d30d4790>,\n",
       " <shapely.geometry.polygon.Polygon at 0x111d30d47c0>,\n",
       " <shapely.geometry.polygon.Polygon at 0x111d30d4730>,\n",
       " <shapely.geometry.polygon.Polygon at 0x111d30d4820>,\n",
       " <shapely.geometry.polygon.Polygon at 0x111d30d47f0>,\n",
       " <shapely.geometry.polygon.Polygon at 0x111d30d4850>,\n",
       " <shapely.geometry.polygon.Polygon at 0x111d30d49d0>,\n",
       " <shapely.geometry.polygon.Polygon at 0x111d30d4880>,\n",
       " <shapely.geometry.polygon.Polygon at 0x111d30d49a0>,\n",
       " <shapely.geometry.polygon.Polygon at 0x111d30d4940>,\n",
       " <shapely.geometry.polygon.Polygon at 0x111d30d4970>,\n",
       " <shapely.geometry.polygon.Polygon at 0x111d30d4a00>,\n",
       " <shapely.geometry.polygon.Polygon at 0x111d30d43d0>,\n",
       " <shapely.geometry.polygon.Polygon at 0x111d30d4a90>,\n",
       " <shapely.geometry.polygon.Polygon at 0x111d30d4be0>,\n",
       " <shapely.geometry.polygon.Polygon at 0x111d30d4c10>,\n",
       " <shapely.geometry.polygon.Polygon at 0x111d30d4bb0>,\n",
       " <shapely.geometry.polygon.Polygon at 0x111d30d48e0>,\n",
       " <shapely.geometry.polygon.Polygon at 0x111d30d48b0>,\n",
       " <shapely.geometry.polygon.Polygon at 0x111d30d4b20>,\n",
       " <shapely.geometry.polygon.Polygon at 0x111d30d4910>,\n",
       " <shapely.geometry.polygon.Polygon at 0x111d30d4ac0>,\n",
       " <shapely.geometry.polygon.Polygon at 0x111d30d4c70>,\n",
       " <shapely.geometry.polygon.Polygon at 0x111d30d4af0>,\n",
       " <shapely.geometry.polygon.Polygon at 0x111d30d4a60>,\n",
       " <shapely.geometry.polygon.Polygon at 0x111d30d42e0>,\n",
       " <shapely.geometry.polygon.Polygon at 0x111d30d4d60>,\n",
       " <shapely.geometry.polygon.Polygon at 0x111d30d4e20>,\n",
       " <shapely.geometry.polygon.Polygon at 0x111d30d4ee0>,\n",
       " <shapely.geometry.polygon.Polygon at 0x111d30d4df0>,\n",
       " <shapely.geometry.polygon.Polygon at 0x111d30d4d30>,\n",
       " <shapely.geometry.polygon.Polygon at 0x111d30d4eb0>,\n",
       " <shapely.geometry.polygon.Polygon at 0x111d30d4e80>,\n",
       " <shapely.geometry.polygon.Polygon at 0x111d30d4e50>,\n",
       " <shapely.geometry.polygon.Polygon at 0x111d30d4fd0>,\n",
       " <shapely.geometry.polygon.Polygon at 0x111d30d4b80>,\n",
       " <shapely.geometry.polygon.Polygon at 0x111d30d4f10>,\n",
       " <shapely.geometry.polygon.Polygon at 0x111d30d4c40>,\n",
       " <shapely.geometry.polygon.Polygon at 0x111d30d4ca0>,\n",
       " <shapely.geometry.polygon.Polygon at 0x111d30d4d90>,\n",
       " <shapely.geometry.polygon.Polygon at 0x111d30d4d00>,\n",
       " <shapely.geometry.polygon.Polygon at 0x111d30d4f70>,\n",
       " <shapely.geometry.polygon.Polygon at 0x111d30d4a30>,\n",
       " <shapely.geometry.polygon.Polygon at 0x111d30d4fa0>,\n",
       " <shapely.geometry.polygon.Polygon at 0x111d30d4490>,\n",
       " <shapely.geometry.polygon.Polygon at 0x111d30d4cd0>,\n",
       " <shapely.geometry.polygon.Polygon at 0x111d30d4f40>,\n",
       " <shapely.geometry.polygon.Polygon at 0x111d30d4dc0>,\n",
       " <shapely.geometry.polygon.Polygon at 0x111d30d4b50>,\n",
       " <shapely.geometry.polygon.Polygon at 0x111d30d80a0>,\n",
       " <shapely.geometry.polygon.Polygon at 0x111d30d8160>,\n",
       " <shapely.geometry.polygon.Polygon at 0x111d30d8190>,\n",
       " <shapely.geometry.polygon.Polygon at 0x111d30d82e0>,\n",
       " <shapely.geometry.polygon.Polygon at 0x111d30d8130>,\n",
       " <shapely.geometry.polygon.Polygon at 0x111d30d82b0>,\n",
       " <shapely.geometry.polygon.Polygon at 0x111d30d8310>,\n",
       " <shapely.geometry.polygon.Polygon at 0x111d30d8100>,\n",
       " <shapely.geometry.polygon.Polygon at 0x111d30d8370>,\n",
       " <shapely.geometry.polygon.Polygon at 0x111d30d8340>,\n",
       " <shapely.geometry.polygon.Polygon at 0x111d30d80d0>,\n",
       " <shapely.geometry.polygon.Polygon at 0x111d30d8280>,\n",
       " <shapely.geometry.polygon.Polygon at 0x111d30d8070>,\n",
       " <shapely.geometry.polygon.Polygon at 0x111d30d8400>,\n",
       " <shapely.geometry.polygon.Polygon at 0x111d30d84c0>,\n",
       " <shapely.geometry.polygon.Polygon at 0x111d30d85e0>,\n",
       " <shapely.geometry.polygon.Polygon at 0x111d30d85b0>,\n",
       " <shapely.geometry.polygon.Polygon at 0x111d30d8250>,\n",
       " <shapely.geometry.polygon.Polygon at 0x111d30d8580>,\n",
       " <shapely.geometry.polygon.Polygon at 0x111d30d81c0>,\n",
       " <shapely.geometry.polygon.Polygon at 0x111d30d8040>,\n",
       " <shapely.geometry.polygon.Polygon at 0x111d30d8220>,\n",
       " <shapely.geometry.polygon.Polygon at 0x111d30d8520>,\n",
       " <shapely.geometry.polygon.Polygon at 0x111d30d8550>,\n",
       " <shapely.geometry.polygon.Polygon at 0x111d30d86a0>,\n",
       " <shapely.geometry.polygon.Polygon at 0x111d30d8460>,\n",
       " <shapely.geometry.polygon.Polygon at 0x111d30d8610>,\n",
       " <shapely.geometry.polygon.Polygon at 0x111d30d83a0>,\n",
       " <shapely.geometry.polygon.Polygon at 0x111d30d81f0>,\n",
       " <shapely.geometry.polygon.Polygon at 0x111d30d8670>,\n",
       " <shapely.geometry.polygon.Polygon at 0x111d30d87c0>,\n",
       " <shapely.geometry.polygon.Polygon at 0x111d30d8820>,\n",
       " <shapely.geometry.polygon.Polygon at 0x111d30d8430>,\n",
       " <shapely.geometry.polygon.Polygon at 0x111d30d87f0>,\n",
       " <shapely.geometry.polygon.Polygon at 0x111d30d88e0>,\n",
       " <shapely.geometry.polygon.Polygon at 0x111d30d83d0>,\n",
       " <shapely.geometry.polygon.Polygon at 0x111d30d84f0>,\n",
       " <shapely.geometry.polygon.Polygon at 0x111d30d88b0>,\n",
       " <shapely.geometry.polygon.Polygon at 0x111d30d8970>,\n",
       " <shapely.geometry.polygon.Polygon at 0x111d30d8850>,\n",
       " <shapely.geometry.polygon.Polygon at 0x111d30d8490>,\n",
       " <shapely.geometry.polygon.Polygon at 0x111d30d8940>,\n",
       " <shapely.geometry.polygon.Polygon at 0x111d30d8a30>,\n",
       " <shapely.geometry.polygon.Polygon at 0x111d30d8b20>,\n",
       " <shapely.geometry.polygon.Polygon at 0x111d30d8640>,\n",
       " <shapely.geometry.polygon.Polygon at 0x111d30d8af0>,\n",
       " <shapely.geometry.polygon.Polygon at 0x111d30d8880>,\n",
       " <shapely.geometry.polygon.Polygon at 0x111d30d8ac0>,\n",
       " <shapely.geometry.polygon.Polygon at 0x111d30d8c10>]"
      ]
     },
     "execution_count": 8,
     "metadata": {},
     "output_type": "execute_result"
    }
   ],
   "source": [
    "ft_elem = 'gml:surfaceMember//gml:posList'\n",
    "get_footprints(ft_elem,bldg_elem_list['lu'],gml_root['lu'],pt=False,solid=True)\n",
    "\n",
    "# get_footprint, solid case: OK"
   ]
  },
  {
   "cell_type": "code",
   "execution_count": 38,
   "id": "8ca30f1c",
   "metadata": {},
   "outputs": [
    {
     "data": {
      "text/plain": [
       "[<shapely.geometry.multipolygon.MultiPolygon at 0x19dddf12400>,\n",
       " <shapely.geometry.polygon.Polygon at 0x19de088fe20>,\n",
       " <shapely.geometry.multipolygon.MultiPolygon at 0x19de088f9d0>]"
      ]
     },
     "execution_count": 38,
     "metadata": {},
     "output_type": "execute_result"
    }
   ],
   "source": [
    "ft_elem = 'gml:Surface//gml:posList'\n",
    "get_footprints(ft_elem,bldg_elem_list['se'],gml_root['se'],mode='2d')\n",
    "\n",
    "# get_footprint, 2d mode: OK"
   ]
  }
 ],
 "metadata": {
  "kernelspec": {
   "display_name": "Python 3",
   "language": "python",
   "name": "python3"
  },
  "language_info": {
   "codemirror_mode": {
    "name": "ipython",
    "version": 3
   },
   "file_extension": ".py",
   "mimetype": "text/x-python",
   "name": "python",
   "nbconvert_exporter": "python",
   "pygments_lexer": "ipython3",
   "version": "3.9.4"
  }
 },
 "nbformat": 4,
 "nbformat_minor": 5
}
